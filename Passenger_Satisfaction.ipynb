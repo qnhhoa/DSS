{
  "cells": [
    {
      "cell_type": "markdown",
      "metadata": {
        "colab_type": "text",
        "id": "view-in-github"
      },
      "source": [
        "<a href=\"https://colab.research.google.com/github/qnhhoa/DecisionSupportSystem/blob/main/Passenger_Satisfaction.ipynb\" target=\"_parent\"><img src=\"https://colab.research.google.com/assets/colab-badge.svg\" alt=\"Open In Colab\"/></a>"
      ]
    },
    {
      "cell_type": "code",
      "execution_count": 1,
      "metadata": {
        "colab": {
          "base_uri": "https://localhost:8080/"
        },
        "id": "2utd7pYOIjBY",
        "outputId": "9ec9566e-b93c-4c39-875c-533f0d583b3d"
      },
      "outputs": [
        {
          "ename": "ModuleNotFoundError",
          "evalue": "No module named 'google.colab'",
          "output_type": "error",
          "traceback": [
            "\u001b[1;31m---------------------------------------------------------------------------\u001b[0m",
            "\u001b[1;31mModuleNotFoundError\u001b[0m                       Traceback (most recent call last)",
            "Cell \u001b[1;32mIn [1], line 2\u001b[0m\n\u001b[0;32m      1\u001b[0m \u001b[39m# Kết nối tới drive\u001b[39;00m\n\u001b[1;32m----> 2\u001b[0m \u001b[39mfrom\u001b[39;00m \u001b[39mgoogle\u001b[39;00m\u001b[39m.\u001b[39;00m\u001b[39mcolab\u001b[39;00m \u001b[39mimport\u001b[39;00m drive\n\u001b[0;32m      3\u001b[0m drive\u001b[39m.\u001b[39mmount(\u001b[39m'\u001b[39m\u001b[39m/content/drive\u001b[39m\u001b[39m'\u001b[39m)\n",
            "\u001b[1;31mModuleNotFoundError\u001b[0m: No module named 'google.colab'"
          ]
        }
      ],
      "source": [
        "# Kết nối tới drive\n",
        "from google.colab import drive\n",
        "drive.mount('/content/drive')"
      ]
    },
    {
      "cell_type": "code",
      "execution_count": 2,
      "metadata": {
        "id": "DbmrFATfJ0kc"
      },
      "outputs": [
        {
          "ename": "ModuleNotFoundError",
          "evalue": "No module named 'seaborn'",
          "output_type": "error",
          "traceback": [
            "\u001b[1;31m---------------------------------------------------------------------------\u001b[0m",
            "\u001b[1;31mModuleNotFoundError\u001b[0m                       Traceback (most recent call last)",
            "Cell \u001b[1;32mIn [2], line 6\u001b[0m\n\u001b[0;32m      4\u001b[0m \u001b[39mimport\u001b[39;00m \u001b[39mos\u001b[39;00m\n\u001b[0;32m      5\u001b[0m \u001b[39mimport\u001b[39;00m \u001b[39murllib\u001b[39;00m\u001b[39m.\u001b[39;00m\u001b[39mrequest\u001b[39;00m\n\u001b[1;32m----> 6\u001b[0m \u001b[39mimport\u001b[39;00m \u001b[39mseaborn\u001b[39;00m \u001b[39mas\u001b[39;00m \u001b[39msns\u001b[39;00m\n\u001b[0;32m      8\u001b[0m get_ipython()\u001b[39m.\u001b[39mrun_line_magic(\u001b[39m'\u001b[39m\u001b[39mmatplotlib\u001b[39m\u001b[39m'\u001b[39m, \u001b[39m'\u001b[39m\u001b[39minline\u001b[39m\u001b[39m'\u001b[39m)\n",
            "\u001b[1;31mModuleNotFoundError\u001b[0m: No module named 'seaborn'"
          ]
        }
      ],
      "source": [
        "import pandas as pd\n",
        "import numpy as np\n",
        "import matplotlib.pyplot as plt\n",
        "import os\n",
        "import urllib.request\n",
        "import seaborn as sns\n",
        "\n",
        "%matplotlib inline"
      ]
    },
    {
      "cell_type": "code",
      "execution_count": null,
      "metadata": {
        "id": "68j_4EmzJ2xU"
      },
      "outputs": [
        {
          "ename": "",
          "evalue": "",
          "output_type": "error",
          "traceback": [
            "\u001b[1;31mRunning cells with 'Python 3.9.13 64-bit (microsoft store)' requires ipykernel package.\n",
            "\u001b[1;31mRun the following command to install 'ipykernel' into the Python environment. \n",
            "\u001b[1;31mCommand: 'c:/Users/abc/AppData/Local/Microsoft/WindowsApps/python3.9.exe -m pip install ipykernel -U --force-reinstall'"
          ]
        }
      ],
      "source": [
        "# Train set\n",
        "DOWNLOAD_URL = 'https://raw.githubusercontent.com/qnhhoa/DecisionSupportSystem/main/train.csv'\n",
        "DATASET_DIR_PATH = '/content/drive/MyDrive/Colab Notebooks/DSS' # [directory path] để save dataset trên google drive\n",
        "DATASET_PATH = os.path.join(DATASET_DIR_PATH, 'passenger_satis_raw.csv')"
      ]
    },
    {
      "cell_type": "code",
      "execution_count": null,
      "metadata": {
        "id": "Ax3AxK_yZpIS"
      },
      "outputs": [
        {
          "ename": "",
          "evalue": "",
          "output_type": "error",
          "traceback": [
            "\u001b[1;31mRunning cells with 'Python 3.9.13 64-bit (microsoft store)' requires ipykernel package.\n",
            "\u001b[1;31mRun the following command to install 'ipykernel' into the Python environment. \n",
            "\u001b[1;31mCommand: 'c:/Users/abc/AppData/Local/Microsoft/WindowsApps/python3.9.exe -m pip install ipykernel -U --force-reinstall'"
          ]
        }
      ],
      "source": [
        "# Test set\n",
        "TEST_URL = 'https://raw.githubusercontent.com/qnhhoa/DecisionSupportSystem/main/test.csv'\n",
        "TESTSET_PATH = os.path.join(DATASET_DIR_PATH, 'test.csv')"
      ]
    },
    {
      "cell_type": "markdown",
      "metadata": {
        "id": "JzjtWnYEPGxb"
      },
      "source": [
        "# **Download and save dataset**"
      ]
    },
    {
      "cell_type": "code",
      "execution_count": null,
      "metadata": {
        "id": "i1MhYjhFPDgQ"
      },
      "outputs": [
        {
          "ename": "",
          "evalue": "",
          "output_type": "error",
          "traceback": [
            "\u001b[1;31mRunning cells with 'Python 3.9.13 64-bit (microsoft store)' requires ipykernel package.\n",
            "\u001b[1;31mRun the following command to install 'ipykernel' into the Python environment. \n",
            "\u001b[1;31mCommand: 'c:/Users/abc/AppData/Local/Microsoft/WindowsApps/python3.9.exe -m pip install ipykernel -U --force-reinstall'"
          ]
        }
      ],
      "source": [
        "def fetch_data(download_url, dataset_path):\n",
        "    try:\n",
        "        urllib.request.urlretrieve(download_url, dataset_path)\n",
        "    except:\n",
        "        print(f\"failed to download and save dataset in {dataset_path}\")"
      ]
    },
    {
      "cell_type": "code",
      "execution_count": null,
      "metadata": {
        "id": "n9NNAMVSPMx6"
      },
      "outputs": [
        {
          "ename": "",
          "evalue": "",
          "output_type": "error",
          "traceback": [
            "\u001b[1;31mRunning cells with 'Python 3.9.13 64-bit (microsoft store)' requires ipykernel package.\n",
            "\u001b[1;31mRun the following command to install 'ipykernel' into the Python environment. \n",
            "\u001b[1;31mCommand: 'c:/Users/abc/AppData/Local/Microsoft/WindowsApps/python3.9.exe -m pip install ipykernel -U --force-reinstall'"
          ]
        }
      ],
      "source": [
        "fetch_data(DOWNLOAD_URL, DATASET_PATH)\n",
        "fetch_data(TEST_URL, TESTSET_PATH)"
      ]
    },
    {
      "cell_type": "markdown",
      "metadata": {
        "id": "yr86nVrdPQuI"
      },
      "source": [
        "# **Data Preprocessing**\n"
      ]
    },
    {
      "cell_type": "code",
      "execution_count": null,
      "metadata": {
        "id": "EJtWJF1yPP3M"
      },
      "outputs": [
        {
          "ename": "",
          "evalue": "",
          "output_type": "error",
          "traceback": [
            "\u001b[1;31mRunning cells with 'Python 3.9.13 64-bit (microsoft store)' requires ipykernel package.\n",
            "\u001b[1;31mRun the following command to install 'ipykernel' into the Python environment. \n",
            "\u001b[1;31mCommand: 'c:/Users/abc/AppData/Local/Microsoft/WindowsApps/python3.9.exe -m pip install ipykernel -U --force-reinstall'"
          ]
        }
      ],
      "source": [
        "# load dataset\n",
        "df = pd.read_csv(DATASET_PATH)"
      ]
    },
    {
      "cell_type": "code",
      "execution_count": null,
      "metadata": {
        "id": "zQ--ewR9cMps"
      },
      "outputs": [
        {
          "ename": "",
          "evalue": "",
          "output_type": "error",
          "traceback": [
            "\u001b[1;31mRunning cells with 'Python 3.9.13 64-bit (microsoft store)' requires ipykernel package.\n",
            "\u001b[1;31mRun the following command to install 'ipykernel' into the Python environment. \n",
            "\u001b[1;31mCommand: 'c:/Users/abc/AppData/Local/Microsoft/WindowsApps/python3.9.exe -m pip install ipykernel -U --force-reinstall'"
          ]
        }
      ],
      "source": [
        "# load testset\n",
        "test_set = pd.read_csv(TESTSET_PATH)"
      ]
    },
    {
      "cell_type": "code",
      "execution_count": null,
      "metadata": {
        "id": "WA4iwJ_AlSFM"
      },
      "outputs": [
        {
          "ename": "",
          "evalue": "",
          "output_type": "error",
          "traceback": [
            "\u001b[1;31mRunning cells with 'Python 3.9.13 64-bit (microsoft store)' requires ipykernel package.\n",
            "\u001b[1;31mRun the following command to install 'ipykernel' into the Python environment. \n",
            "\u001b[1;31mCommand: 'c:/Users/abc/AppData/Local/Microsoft/WindowsApps/python3.9.exe -m pip install ipykernel -U --force-reinstall'"
          ]
        }
      ],
      "source": [
        "df1 = pd.concat([df, test_set])"
      ]
    },
    {
      "cell_type": "code",
      "execution_count": null,
      "metadata": {
        "id": "Vt8N6BdLPVdA"
      },
      "outputs": [
        {
          "ename": "",
          "evalue": "",
          "output_type": "error",
          "traceback": [
            "\u001b[1;31mRunning cells with 'Python 3.9.13 64-bit (microsoft store)' requires ipykernel package.\n",
            "\u001b[1;31mRun the following command to install 'ipykernel' into the Python environment. \n",
            "\u001b[1;31mCommand: 'c:/Users/abc/AppData/Local/Microsoft/WindowsApps/python3.9.exe -m pip install ipykernel -U --force-reinstall'"
          ]
        }
      ],
      "source": [
        "# copy data ra một biến khác để đảm bảo an toàn cho dữ liệu\n",
        "df_cp = df1.copy()"
      ]
    },
    {
      "cell_type": "markdown",
      "metadata": {
        "id": "3OMD-wjNYwjD"
      },
      "source": [
        "## **EDA - Exploratory Data Analysis**"
      ]
    },
    {
      "cell_type": "markdown",
      "metadata": {
        "id": "tIIAOpaHZAex"
      },
      "source": [
        "### Decribe data\n",
        "\n",
        "\n",
        "\n"
      ]
    },
    {
      "cell_type": "code",
      "execution_count": null,
      "metadata": {
        "colab": {
          "base_uri": "https://localhost:8080/",
          "height": 0
        },
        "id": "AJJ8mADUPhzD",
        "outputId": "d3135ecd-67f2-437f-9c22-c41a16517b2f"
      },
      "outputs": [
        {
          "ename": "",
          "evalue": "",
          "output_type": "error",
          "traceback": [
            "\u001b[1;31mRunning cells with 'Python 3.9.13 64-bit (microsoft store)' requires ipykernel package.\n",
            "\u001b[1;31mRun the following command to install 'ipykernel' into the Python environment. \n",
            "\u001b[1;31mCommand: 'c:/Users/abc/AppData/Local/Microsoft/WindowsApps/python3.9.exe -m pip install ipykernel -U --force-reinstall'"
          ]
        }
      ],
      "source": [
        "# kiểm tra 10 dòng đầu\n",
        "df_cp.head(10)"
      ]
    },
    {
      "cell_type": "code",
      "execution_count": null,
      "metadata": {
        "colab": {
          "base_uri": "https://localhost:8080/"
        },
        "id": "RO7tWoFvPmk7",
        "outputId": "ff53bed5-d698-4ab0-d9b1-c283c1adea80"
      },
      "outputs": [
        {
          "ename": "",
          "evalue": "",
          "output_type": "error",
          "traceback": [
            "\u001b[1;31mRunning cells with 'Python 3.9.13 64-bit (microsoft store)' requires ipykernel package.\n",
            "\u001b[1;31mRun the following command to install 'ipykernel' into the Python environment. \n",
            "\u001b[1;31mCommand: 'c:/Users/abc/AppData/Local/Microsoft/WindowsApps/python3.9.exe -m pip install ipykernel -U --force-reinstall'"
          ]
        }
      ],
      "source": [
        "# check info\n",
        "df_cp.info()"
      ]
    },
    {
      "cell_type": "code",
      "execution_count": null,
      "metadata": {
        "colab": {
          "base_uri": "https://localhost:8080/",
          "height": 0
        },
        "id": "wIgL1iUJvFqO",
        "outputId": "6bd0478f-febf-4636-d402-e79bd5fbc455"
      },
      "outputs": [
        {
          "ename": "",
          "evalue": "",
          "output_type": "error",
          "traceback": [
            "\u001b[1;31mRunning cells with 'Python 3.9.13 64-bit (microsoft store)' requires ipykernel package.\n",
            "\u001b[1;31mRun the following command to install 'ipykernel' into the Python environment. \n",
            "\u001b[1;31mCommand: 'c:/Users/abc/AppData/Local/Microsoft/WindowsApps/python3.9.exe -m pip install ipykernel -U --force-reinstall'"
          ]
        }
      ],
      "source": [
        "df_cp.describe()"
      ]
    },
    {
      "cell_type": "code",
      "execution_count": null,
      "metadata": {
        "id": "Pv0iJjUbnPqg"
      },
      "outputs": [
        {
          "ename": "",
          "evalue": "",
          "output_type": "error",
          "traceback": [
            "\u001b[1;31mRunning cells with 'Python 3.9.13 64-bit (microsoft store)' requires ipykernel package.\n",
            "\u001b[1;31mRun the following command to install 'ipykernel' into the Python environment. \n",
            "\u001b[1;31mCommand: 'c:/Users/abc/AppData/Local/Microsoft/WindowsApps/python3.9.exe -m pip install ipykernel -U --force-reinstall'"
          ]
        }
      ],
      "source": [
        "df_cp.drop(columns=['Unnamed: 0','id'],axis=1, inplace=True)"
      ]
    },
    {
      "cell_type": "code",
      "execution_count": null,
      "metadata": {
        "id": "WmL47_U8JzWm"
      },
      "outputs": [
        {
          "ename": "",
          "evalue": "",
          "output_type": "error",
          "traceback": [
            "\u001b[1;31mRunning cells with 'Python 3.9.13 64-bit (microsoft store)' requires ipykernel package.\n",
            "\u001b[1;31mRun the following command to install 'ipykernel' into the Python environment. \n",
            "\u001b[1;31mCommand: 'c:/Users/abc/AppData/Local/Microsoft/WindowsApps/python3.9.exe -m pip install ipykernel -U --force-reinstall'"
          ]
        }
      ],
      "source": [
        "def bar_plot(variable):\n",
        "    # we get the features\n",
        "    var = df_cp[variable]\n",
        "    # count number of categorical variable\n",
        "    varValue = var.value_counts()\n",
        "    \n",
        "    plt.figure(figsize = (9,3))\n",
        "    plt.bar(varValue.index, varValue)\n",
        "    plt.xticks(varValue.index, varValue.index.values)\n",
        "    plt.ylabel(\"Frequency\")\n",
        "    plt.title(variable)\n",
        "    plt.show()\n",
        "    print(\"{}: \\n {}\".format(variable,varValue))\n",
        "     "
      ]
    },
    {
      "cell_type": "code",
      "execution_count": null,
      "metadata": {
        "colab": {
          "base_uri": "https://localhost:8080/",
          "height": 0
        },
        "id": "feyUb2FQJ0HE",
        "outputId": "4ad63483-2c55-41ea-ee82-2f12ab439f1d"
      },
      "outputs": [
        {
          "ename": "",
          "evalue": "",
          "output_type": "error",
          "traceback": [
            "\u001b[1;31mRunning cells with 'Python 3.9.13 64-bit (microsoft store)' requires ipykernel package.\n",
            "\u001b[1;31mRun the following command to install 'ipykernel' into the Python environment. \n",
            "\u001b[1;31mCommand: 'c:/Users/abc/AppData/Local/Microsoft/WindowsApps/python3.9.exe -m pip install ipykernel -U --force-reinstall'"
          ]
        }
      ],
      "source": [
        "categorical_var = [\"Gender\", \"Customer Type\", \"Type of Travel\", \"Class\",\"satisfaction\"]\n",
        "for each in categorical_var:\n",
        "    bar_plot(each)"
      ]
    },
    {
      "cell_type": "code",
      "execution_count": null,
      "metadata": {
        "colab": {
          "base_uri": "https://localhost:8080/",
          "height": 0
        },
        "id": "p6bvfYXZvxVD",
        "outputId": "1252c19f-10b8-441d-8759-cb40157e698b"
      },
      "outputs": [
        {
          "ename": "",
          "evalue": "",
          "output_type": "error",
          "traceback": [
            "\u001b[1;31mRunning cells with 'Python 3.9.13 64-bit (microsoft store)' requires ipykernel package.\n",
            "\u001b[1;31mRun the following command to install 'ipykernel' into the Python environment. \n",
            "\u001b[1;31mCommand: 'c:/Users/abc/AppData/Local/Microsoft/WindowsApps/python3.9.exe -m pip install ipykernel -U --force-reinstall'"
          ]
        }
      ],
      "source": [
        "# check phân bố dữ liệu\n",
        "df_cp.hist(bins=50,figsize=(40, 20))\n",
        "plt.show()"
      ]
    },
    {
      "cell_type": "markdown",
      "metadata": {
        "id": "SLpRfqA_CpOz"
      },
      "source": [
        "### Outliers"
      ]
    },
    {
      "cell_type": "code",
      "execution_count": null,
      "metadata": {
        "colab": {
          "base_uri": "https://localhost:8080/",
          "height": 0
        },
        "id": "j8Skc6p7Coyz",
        "outputId": "c25903a4-a1c1-4bc0-819d-34b97528328e"
      },
      "outputs": [
        {
          "ename": "",
          "evalue": "",
          "output_type": "error",
          "traceback": [
            "\u001b[1;31mRunning cells with 'Python 3.9.13 64-bit (microsoft store)' requires ipykernel package.\n",
            "\u001b[1;31mRun the following command to install 'ipykernel' into the Python environment. \n",
            "\u001b[1;31mCommand: 'c:/Users/abc/AppData/Local/Microsoft/WindowsApps/python3.9.exe -m pip install ipykernel -U --force-reinstall'"
          ]
        }
      ],
      "source": [
        "# Lấy ra những cột dạng numeric trong data\n",
        "numeric = df_cp.select_dtypes(exclude='object')\n",
        "numeric"
      ]
    },
    {
      "cell_type": "code",
      "execution_count": null,
      "metadata": {
        "colab": {
          "base_uri": "https://localhost:8080/"
        },
        "id": "gYZjj_P2D-uO",
        "outputId": "51504ae5-3c26-4d57-86af-412e75eb1f09"
      },
      "outputs": [
        {
          "ename": "",
          "evalue": "",
          "output_type": "error",
          "traceback": [
            "\u001b[1;31mRunning cells with 'Python 3.9.13 64-bit (microsoft store)' requires ipykernel package.\n",
            "\u001b[1;31mRun the following command to install 'ipykernel' into the Python environment. \n",
            "\u001b[1;31mCommand: 'c:/Users/abc/AppData/Local/Microsoft/WindowsApps/python3.9.exe -m pip install ipykernel -U --force-reinstall'"
          ]
        }
      ],
      "source": [
        "# Lấy ra những cột cần thiết\n",
        "cols_to_check = [col for col in numeric.columns if col not in ['satisfaction']]\n",
        "cols_to_check"
      ]
    },
    {
      "cell_type": "code",
      "execution_count": null,
      "metadata": {
        "id": "G846mGa6EuRR"
      },
      "outputs": [
        {
          "ename": "",
          "evalue": "",
          "output_type": "error",
          "traceback": [
            "\u001b[1;31mRunning cells with 'Python 3.9.13 64-bit (microsoft store)' requires ipykernel package.\n",
            "\u001b[1;31mRun the following command to install 'ipykernel' into the Python environment. \n",
            "\u001b[1;31mCommand: 'c:/Users/abc/AppData/Local/Microsoft/WindowsApps/python3.9.exe -m pip install ipykernel -U --force-reinstall'"
          ]
        }
      ],
      "source": [
        "# # visualize outliers sử dụng boxplot\n",
        "# fig, ax = plt.subplots(6, 3, figsize = (25, 15))\n",
        "# ax = ax.flatten()\n",
        "# for i, c in enumerate(cols_to_check):\n",
        "#     sns.boxplot(x = df[c], ax = ax[i])\n",
        "# fig.tight_layout()"
      ]
    },
    {
      "cell_type": "markdown",
      "metadata": {
        "id": "53X3hxLqZoju"
      },
      "source": [
        "### Handling Missing and Duplicate Data"
      ]
    },
    {
      "cell_type": "code",
      "execution_count": null,
      "metadata": {
        "colab": {
          "base_uri": "https://localhost:8080/"
        },
        "id": "w5pdjnHEZnm5",
        "outputId": "386f119d-f1e4-4c0e-e0c0-7dee3a60a9d1"
      },
      "outputs": [
        {
          "ename": "",
          "evalue": "",
          "output_type": "error",
          "traceback": [
            "\u001b[1;31mRunning cells with 'Python 3.9.13 64-bit (microsoft store)' requires ipykernel package.\n",
            "\u001b[1;31mRun the following command to install 'ipykernel' into the Python environment. \n",
            "\u001b[1;31mCommand: 'c:/Users/abc/AppData/Local/Microsoft/WindowsApps/python3.9.exe -m pip install ipykernel -U --force-reinstall'"
          ]
        }
      ],
      "source": [
        "# check dữ liệu NaN\n",
        "df_cp.isna().sum()"
      ]
    },
    {
      "cell_type": "code",
      "execution_count": null,
      "metadata": {
        "id": "0gvLOJtmbp6D"
      },
      "outputs": [
        {
          "ename": "",
          "evalue": "",
          "output_type": "error",
          "traceback": [
            "\u001b[1;31mRunning cells with 'Python 3.9.13 64-bit (microsoft store)' requires ipykernel package.\n",
            "\u001b[1;31mRun the following command to install 'ipykernel' into the Python environment. \n",
            "\u001b[1;31mCommand: 'c:/Users/abc/AppData/Local/Microsoft/WindowsApps/python3.9.exe -m pip install ipykernel -U --force-reinstall'"
          ]
        }
      ],
      "source": [
        "# xóa dữ liệu null\n",
        "df_cp.dropna(inplace=True)"
      ]
    },
    {
      "cell_type": "code",
      "execution_count": null,
      "metadata": {
        "colab": {
          "base_uri": "https://localhost:8080/"
        },
        "id": "qaZ0dvHwHR9v",
        "outputId": "b4cd1c17-19d0-4bcf-e0c5-891b7c91a76c"
      },
      "outputs": [
        {
          "ename": "",
          "evalue": "",
          "output_type": "error",
          "traceback": [
            "\u001b[1;31mRunning cells with 'Python 3.9.13 64-bit (microsoft store)' requires ipykernel package.\n",
            "\u001b[1;31mRun the following command to install 'ipykernel' into the Python environment. \n",
            "\u001b[1;31mCommand: 'c:/Users/abc/AppData/Local/Microsoft/WindowsApps/python3.9.exe -m pip install ipykernel -U --force-reinstall'"
          ]
        }
      ],
      "source": [
        "df_cp.duplicated().sum()"
      ]
    },
    {
      "cell_type": "code",
      "execution_count": null,
      "metadata": {
        "colab": {
          "base_uri": "https://localhost:8080/",
          "height": 0
        },
        "id": "x3bmDR_yTNoN",
        "outputId": "c68913bf-eac9-4aa4-ba27-e8314bfa34d2"
      },
      "outputs": [
        {
          "ename": "",
          "evalue": "",
          "output_type": "error",
          "traceback": [
            "\u001b[1;31mRunning cells with 'Python 3.9.13 64-bit (microsoft store)' requires ipykernel package.\n",
            "\u001b[1;31mRun the following command to install 'ipykernel' into the Python environment. \n",
            "\u001b[1;31mCommand: 'c:/Users/abc/AppData/Local/Microsoft/WindowsApps/python3.9.exe -m pip install ipykernel -U --force-reinstall'"
          ]
        }
      ],
      "source": [
        "df_cp.head(10)"
      ]
    },
    {
      "cell_type": "markdown",
      "metadata": {
        "id": "-pfQkwROdLOQ"
      },
      "source": [
        "## **Data Cleaning**"
      ]
    },
    {
      "cell_type": "markdown",
      "metadata": {
        "id": "QKhTFr5jLlZB"
      },
      "source": [
        "### Xử lý Outliers"
      ]
    },
    {
      "cell_type": "code",
      "execution_count": null,
      "metadata": {
        "id": "UVieAuSkdQ2y"
      },
      "outputs": [
        {
          "ename": "",
          "evalue": "",
          "output_type": "error",
          "traceback": [
            "\u001b[1;31mRunning cells with 'Python 3.9.13 64-bit (microsoft store)' requires ipykernel package.\n",
            "\u001b[1;31mRun the following command to install 'ipykernel' into the Python environment. \n",
            "\u001b[1;31mCommand: 'c:/Users/abc/AppData/Local/Microsoft/WindowsApps/python3.9.exe -m pip install ipykernel -U --force-reinstall'"
          ]
        }
      ],
      "source": [
        "# outlier columns\n",
        "outlier_cols = [\"Flight Distance\", \"Checkin service\"]\n",
        "\n",
        "def outlier_thresholds(dataframe, variable):\n",
        "    Q1 = df_cp[variable].quantile(0.25)\n",
        "    Q3 = df_cp[variable].quantile(0.75)\n",
        "    IQR = Q3 - Q1\n",
        "    lower_limit = Q1 - 1.5*IQR\n",
        "    upper_limit = Q3 + 1.5*IQR\n",
        "\n",
        "    return lower_limit, upper_limit\n",
        "\n",
        "def HandleOutliers(df):\n",
        "    for col in outlier_cols:\n",
        "        lower_limit, upper_limit = outlier_thresholds(df, col)\n",
        "        print(f\"{col} has {df[(df[col] < lower_limit) | (df[col] > upper_limit)].shape[0]} outliers\")\n",
        "        df = df[(df[col] >= lower_limit) & (df[col] <= upper_limit)]\n",
        "    return df"
      ]
    },
    {
      "cell_type": "code",
      "execution_count": null,
      "metadata": {
        "colab": {
          "base_uri": "https://localhost:8080/"
        },
        "id": "4_3eD-C_MPQw",
        "outputId": "cfbe0cdb-e6ed-4f28-c7bb-562266e1cc52"
      },
      "outputs": [
        {
          "ename": "",
          "evalue": "",
          "output_type": "error",
          "traceback": [
            "\u001b[1;31mRunning cells with 'Python 3.9.13 64-bit (microsoft store)' requires ipykernel package.\n",
            "\u001b[1;31mRun the following command to install 'ipykernel' into the Python environment. \n",
            "\u001b[1;31mCommand: 'c:/Users/abc/AppData/Local/Microsoft/WindowsApps/python3.9.exe -m pip install ipykernel -U --force-reinstall'"
          ]
        }
      ],
      "source": [
        "df_cp = HandleOutliers(df_cp)"
      ]
    },
    {
      "cell_type": "code",
      "execution_count": null,
      "metadata": {
        "id": "R58UjyLmvMYC"
      },
      "outputs": [
        {
          "ename": "",
          "evalue": "",
          "output_type": "error",
          "traceback": [
            "\u001b[1;31mRunning cells with 'Python 3.9.13 64-bit (microsoft store)' requires ipykernel package.\n",
            "\u001b[1;31mRun the following command to install 'ipykernel' into the Python environment. \n",
            "\u001b[1;31mCommand: 'c:/Users/abc/AppData/Local/Microsoft/WindowsApps/python3.9.exe -m pip install ipykernel -U --force-reinstall'"
          ]
        }
      ],
      "source": [
        "df_cp.reset_index(drop=True, inplace = True)"
      ]
    },
    {
      "cell_type": "code",
      "execution_count": null,
      "metadata": {
        "colab": {
          "base_uri": "https://localhost:8080/",
          "height": 682
        },
        "id": "92No_7TS46Wa",
        "outputId": "bf124738-defb-4152-dae7-5aabc1382f4d"
      },
      "outputs": [
        {
          "ename": "",
          "evalue": "",
          "output_type": "error",
          "traceback": [
            "\u001b[1;31mRunning cells with 'Python 3.9.13 64-bit (microsoft store)' requires ipykernel package.\n",
            "\u001b[1;31mRun the following command to install 'ipykernel' into the Python environment. \n",
            "\u001b[1;31mCommand: 'c:/Users/abc/AppData/Local/Microsoft/WindowsApps/python3.9.exe -m pip install ipykernel -U --force-reinstall'"
          ]
        }
      ],
      "source": [
        "df_cp.head(10)"
      ]
    },
    {
      "cell_type": "markdown",
      "metadata": {
        "id": "3o47UjLmcNnh"
      },
      "source": [
        "## **Feature Engineering**"
      ]
    },
    {
      "cell_type": "markdown",
      "metadata": {
        "id": "kiEP9D8IMdKq"
      },
      "source": [
        "### Encode features"
      ]
    },
    {
      "cell_type": "code",
      "execution_count": null,
      "metadata": {
        "colab": {
          "base_uri": "https://localhost:8080/"
        },
        "id": "BRi14vroMlLK",
        "outputId": "95729025-d682-4f03-97cb-7c9290c0221d"
      },
      "outputs": [
        {
          "ename": "",
          "evalue": "",
          "output_type": "error",
          "traceback": [
            "\u001b[1;31mRunning cells with 'Python 3.9.13 64-bit (microsoft store)' requires ipykernel package.\n",
            "\u001b[1;31mRun the following command to install 'ipykernel' into the Python environment. \n",
            "\u001b[1;31mCommand: 'c:/Users/abc/AppData/Local/Microsoft/WindowsApps/python3.9.exe -m pip install ipykernel -U --force-reinstall'"
          ]
        }
      ],
      "source": [
        "df_cp[\"satisfaction\"].value_counts()"
      ]
    },
    {
      "cell_type": "code",
      "execution_count": null,
      "metadata": {
        "colab": {
          "base_uri": "https://localhost:8080/"
        },
        "id": "bj6A8eliMoyP",
        "outputId": "820d2f8b-1eea-4ee3-861c-afa8b05c259e"
      },
      "outputs": [
        {
          "ename": "",
          "evalue": "",
          "output_type": "error",
          "traceback": [
            "\u001b[1;31mRunning cells with 'Python 3.9.13 64-bit (microsoft store)' requires ipykernel package.\n",
            "\u001b[1;31mRun the following command to install 'ipykernel' into the Python environment. \n",
            "\u001b[1;31mCommand: 'c:/Users/abc/AppData/Local/Microsoft/WindowsApps/python3.9.exe -m pip install ipykernel -U --force-reinstall'"
          ]
        }
      ],
      "source": [
        "df_cp[\"Gender\"].value_counts()"
      ]
    },
    {
      "cell_type": "code",
      "execution_count": null,
      "metadata": {
        "colab": {
          "base_uri": "https://localhost:8080/"
        },
        "id": "E4rmmhlTMsy-",
        "outputId": "b344435f-9847-427a-9c84-bf69d27a711b"
      },
      "outputs": [
        {
          "ename": "",
          "evalue": "",
          "output_type": "error",
          "traceback": [
            "\u001b[1;31mRunning cells with 'Python 3.9.13 64-bit (microsoft store)' requires ipykernel package.\n",
            "\u001b[1;31mRun the following command to install 'ipykernel' into the Python environment. \n",
            "\u001b[1;31mCommand: 'c:/Users/abc/AppData/Local/Microsoft/WindowsApps/python3.9.exe -m pip install ipykernel -U --force-reinstall'"
          ]
        }
      ],
      "source": [
        "df_cp[\"Class\"].value_counts()"
      ]
    },
    {
      "cell_type": "code",
      "execution_count": null,
      "metadata": {
        "colab": {
          "base_uri": "https://localhost:8080/"
        },
        "id": "HlcT41EAMxC8",
        "outputId": "12248b90-62ff-4e12-9c5a-abb7ea089a74"
      },
      "outputs": [
        {
          "ename": "",
          "evalue": "",
          "output_type": "error",
          "traceback": [
            "\u001b[1;31mRunning cells with 'Python 3.9.13 64-bit (microsoft store)' requires ipykernel package.\n",
            "\u001b[1;31mRun the following command to install 'ipykernel' into the Python environment. \n",
            "\u001b[1;31mCommand: 'c:/Users/abc/AppData/Local/Microsoft/WindowsApps/python3.9.exe -m pip install ipykernel -U --force-reinstall'"
          ]
        }
      ],
      "source": [
        "df_cp[\"Type of Travel\"].value_counts()"
      ]
    },
    {
      "cell_type": "code",
      "execution_count": null,
      "metadata": {
        "colab": {
          "base_uri": "https://localhost:8080/"
        },
        "id": "9OrgffRmM6pK",
        "outputId": "0e5bd7ac-fedc-41ff-d940-a4dc62816567"
      },
      "outputs": [
        {
          "ename": "",
          "evalue": "",
          "output_type": "error",
          "traceback": [
            "\u001b[1;31mRunning cells with 'Python 3.9.13 64-bit (microsoft store)' requires ipykernel package.\n",
            "\u001b[1;31mRun the following command to install 'ipykernel' into the Python environment. \n",
            "\u001b[1;31mCommand: 'c:/Users/abc/AppData/Local/Microsoft/WindowsApps/python3.9.exe -m pip install ipykernel -U --force-reinstall'"
          ]
        }
      ],
      "source": [
        "df_cp[\"Customer Type\"].value_counts()"
      ]
    },
    {
      "cell_type": "code",
      "execution_count": null,
      "metadata": {
        "id": "j9GLgxlFL3az"
      },
      "outputs": [
        {
          "ename": "",
          "evalue": "",
          "output_type": "error",
          "traceback": [
            "\u001b[1;31mRunning cells with 'Python 3.9.13 64-bit (microsoft store)' requires ipykernel package.\n",
            "\u001b[1;31mRun the following command to install 'ipykernel' into the Python environment. \n",
            "\u001b[1;31mCommand: 'c:/Users/abc/AppData/Local/Microsoft/WindowsApps/python3.9.exe -m pip install ipykernel -U --force-reinstall'"
          ]
        }
      ],
      "source": [
        "from sklearn.preprocessing import OneHotEncoder\n",
        "\n",
        "# encoder column\n",
        "encoder = (OneHotEncoder(sparse=False,handle_unknown='ignore').fit_transform(df_cp[['Class']]))\n",
        "\n",
        "# join to original df\n",
        "# df_cp = df_cp.join(encoder)\n",
        "\n",
        "encoder = pd.DataFrame(encoder)\n",
        "encoder.columns = ['Business','Eco','Eco Plus']"
      ]
    },
    {
      "cell_type": "code",
      "execution_count": null,
      "metadata": {
        "colab": {
          "base_uri": "https://localhost:8080/",
          "height": 363
        },
        "id": "ZL3kZd12HJye",
        "outputId": "42b23fa7-3baf-4c71-d860-38cf619862b6"
      },
      "outputs": [
        {
          "ename": "",
          "evalue": "",
          "output_type": "error",
          "traceback": [
            "\u001b[1;31mRunning cells with 'Python 3.9.13 64-bit (microsoft store)' requires ipykernel package.\n",
            "\u001b[1;31mRun the following command to install 'ipykernel' into the Python environment. \n",
            "\u001b[1;31mCommand: 'c:/Users/abc/AppData/Local/Microsoft/WindowsApps/python3.9.exe -m pip install ipykernel -U --force-reinstall'"
          ]
        }
      ],
      "source": [
        "encoder.head(10)"
      ]
    },
    {
      "cell_type": "code",
      "execution_count": null,
      "metadata": {
        "id": "evCvdGanHoQj"
      },
      "outputs": [
        {
          "ename": "",
          "evalue": "",
          "output_type": "error",
          "traceback": [
            "\u001b[1;31mRunning cells with 'Python 3.9.13 64-bit (microsoft store)' requires ipykernel package.\n",
            "\u001b[1;31mRun the following command to install 'ipykernel' into the Python environment. \n",
            "\u001b[1;31mCommand: 'c:/Users/abc/AppData/Local/Microsoft/WindowsApps/python3.9.exe -m pip install ipykernel -U --force-reinstall'"
          ]
        }
      ],
      "source": [
        "df_cp = df_cp.join(encoder)"
      ]
    },
    {
      "cell_type": "code",
      "execution_count": null,
      "metadata": {
        "id": "sKR-K4J7L_8M"
      },
      "outputs": [
        {
          "ename": "",
          "evalue": "",
          "output_type": "error",
          "traceback": [
            "\u001b[1;31mRunning cells with 'Python 3.9.13 64-bit (microsoft store)' requires ipykernel package.\n",
            "\u001b[1;31mRun the following command to install 'ipykernel' into the Python environment. \n",
            "\u001b[1;31mCommand: 'c:/Users/abc/AppData/Local/Microsoft/WindowsApps/python3.9.exe -m pip install ipykernel -U --force-reinstall'"
          ]
        }
      ],
      "source": [
        "# df_cp['Gender'] = df_cp[\"Gender\"].map({value:idx for idx, value in enumerate(df_cp[\"Gender\"].value_counts().index)})\n",
        "# df_cp['Customer Type'] = df_cp[\"Customer Type\"].map({value:idx for idx, value in enumerate(df_cp[\"Customer Type\"].value_counts().index)})\n",
        "# df_cp['Type of Travel'] = df_cp[\"Type of Travel\"].map({value:idx for idx, value in enumerate(df_cp[\"Type of Travel\"].value_counts().index)})\n",
        "# df_cp['satisfaction'] = df_cp[\"satisfaction\"].map({value:idx for idx, value in enumerate(df_cp[\"satisfaction\"].value_counts().index)})"
      ]
    },
    {
      "cell_type": "code",
      "execution_count": null,
      "metadata": {
        "id": "jqF28CAmrzl5"
      },
      "outputs": [
        {
          "ename": "",
          "evalue": "",
          "output_type": "error",
          "traceback": [
            "\u001b[1;31mRunning cells with 'Python 3.9.13 64-bit (microsoft store)' requires ipykernel package.\n",
            "\u001b[1;31mRun the following command to install 'ipykernel' into the Python environment. \n",
            "\u001b[1;31mCommand: 'c:/Users/abc/AppData/Local/Microsoft/WindowsApps/python3.9.exe -m pip install ipykernel -U --force-reinstall'"
          ]
        }
      ],
      "source": [
        "df_cp['Gender'].replace({'Male':1,'Female':0}, inplace=True)\n",
        "df_cp['Type of Travel'].replace({'Personal Travel':1,'Business travel':0}, inplace=True)\n",
        "df_cp['Customer Type'].replace({'Loyal Customer':1,'disloyal Customer':0}, inplace=True)\n",
        "df_cp['satisfaction'].replace({'neutral or dissatisfied':0, 'satisfied':1}, inplace = True)"
      ]
    },
    {
      "cell_type": "code",
      "execution_count": null,
      "metadata": {
        "colab": {
          "base_uri": "https://localhost:8080/",
          "height": 508
        },
        "id": "vKCJ7VvOO7fO",
        "outputId": "071611ac-6195-4862-c2e4-a00264d90a1f"
      },
      "outputs": [
        {
          "ename": "",
          "evalue": "",
          "output_type": "error",
          "traceback": [
            "\u001b[1;31mRunning cells with 'Python 3.9.13 64-bit (microsoft store)' requires ipykernel package.\n",
            "\u001b[1;31mRun the following command to install 'ipykernel' into the Python environment. \n",
            "\u001b[1;31mCommand: 'c:/Users/abc/AppData/Local/Microsoft/WindowsApps/python3.9.exe -m pip install ipykernel -U --force-reinstall'"
          ]
        }
      ],
      "source": [
        "# results\n",
        "df_cp.head(10)"
      ]
    },
    {
      "cell_type": "code",
      "execution_count": null,
      "metadata": {
        "colab": {
          "base_uri": "https://localhost:8080/"
        },
        "id": "B8FjPRB0PE_J",
        "outputId": "4fd70c3f-a28a-44b6-8563-83d175053af1"
      },
      "outputs": [
        {
          "ename": "",
          "evalue": "",
          "output_type": "error",
          "traceback": [
            "\u001b[1;31mRunning cells with 'Python 3.9.13 64-bit (microsoft store)' requires ipykernel package.\n",
            "\u001b[1;31mRun the following command to install 'ipykernel' into the Python environment. \n",
            "\u001b[1;31mCommand: 'c:/Users/abc/AppData/Local/Microsoft/WindowsApps/python3.9.exe -m pip install ipykernel -U --force-reinstall'"
          ]
        }
      ],
      "source": [
        "df_cp.info()"
      ]
    },
    {
      "cell_type": "markdown",
      "metadata": {
        "id": "lGSm-v30cuLg"
      },
      "source": [
        "### Feature Selection"
      ]
    },
    {
      "cell_type": "markdown",
      "metadata": {
        "id": "5bWQl3Gndz4c"
      },
      "source": [
        "#### Chi-square test"
      ]
    },
    {
      "cell_type": "code",
      "execution_count": null,
      "metadata": {
        "id": "UptaqM2jdzB9"
      },
      "outputs": [
        {
          "ename": "",
          "evalue": "",
          "output_type": "error",
          "traceback": [
            "\u001b[1;31mRunning cells with 'Python 3.9.13 64-bit (microsoft store)' requires ipykernel package.\n",
            "\u001b[1;31mRun the following command to install 'ipykernel' into the Python environment. \n",
            "\u001b[1;31mCommand: 'c:/Users/abc/AppData/Local/Microsoft/WindowsApps/python3.9.exe -m pip install ipykernel -U --force-reinstall'"
          ]
        }
      ],
      "source": [
        "from sklearn.feature_selection import SelectKBest, chi2"
      ]
    },
    {
      "cell_type": "code",
      "execution_count": null,
      "metadata": {
        "id": "uVIhBwled6zQ"
      },
      "outputs": [
        {
          "ename": "",
          "evalue": "",
          "output_type": "error",
          "traceback": [
            "\u001b[1;31mRunning cells with 'Python 3.9.13 64-bit (microsoft store)' requires ipykernel package.\n",
            "\u001b[1;31mRun the following command to install 'ipykernel' into the Python environment. \n",
            "\u001b[1;31mCommand: 'c:/Users/abc/AppData/Local/Microsoft/WindowsApps/python3.9.exe -m pip install ipykernel -U --force-reinstall'"
          ]
        }
      ],
      "source": [
        "categorical_features = df_cp[[\"Gender\", \"Customer Type\",\t\"Age\",\t\"Type of Travel\",\t\"Inflight wifi service\",\t\"Departure/Arrival time convenient\",\t\"Ease of Online booking\",\n",
        "                              \"Gate location\", \"Food and drink\", \"Online boarding\", \"Seat comfort\", \"Inflight entertainment\", \"On-board service\", \"Leg room service\", \n",
        "                              \"Baggage handling\", \"Checkin service\", \"Inflight service\", \"Cleanliness\", \"Eco Plus\", \"Eco\", \"Business\"]]"
      ]
    },
    {
      "cell_type": "code",
      "execution_count": null,
      "metadata": {
        "colab": {
          "base_uri": "https://localhost:8080/"
        },
        "id": "txFrzeb-fN7E",
        "outputId": "3d8f2de5-5e7a-4356-d2b8-fc6fd88e6c06"
      },
      "outputs": [
        {
          "ename": "",
          "evalue": "",
          "output_type": "error",
          "traceback": [
            "\u001b[1;31mRunning cells with 'Python 3.9.13 64-bit (microsoft store)' requires ipykernel package.\n",
            "\u001b[1;31mRun the following command to install 'ipykernel' into the Python environment. \n",
            "\u001b[1;31mCommand: 'c:/Users/abc/AppData/Local/Microsoft/WindowsApps/python3.9.exe -m pip install ipykernel -U --force-reinstall'"
          ]
        }
      ],
      "source": [
        "best_features = SelectKBest(chi2, k=21)\n",
        "best_features.fit(categorical_features, df_cp[\"satisfaction\"])"
      ]
    },
    {
      "cell_type": "code",
      "execution_count": null,
      "metadata": {
        "colab": {
          "base_uri": "https://localhost:8080/",
          "height": 0
        },
        "id": "tB_hedFJfXup",
        "outputId": "a915e842-029d-43f0-d5f7-e88a83deab93"
      },
      "outputs": [
        {
          "ename": "",
          "evalue": "",
          "output_type": "error",
          "traceback": [
            "\u001b[1;31mRunning cells with 'Python 3.9.13 64-bit (microsoft store)' requires ipykernel package.\n",
            "\u001b[1;31mRun the following command to install 'ipykernel' into the Python environment. \n",
            "\u001b[1;31mCommand: 'c:/Users/abc/AppData/Local/Microsoft/WindowsApps/python3.9.exe -m pip install ipykernel -U --force-reinstall'"
          ]
        }
      ],
      "source": [
        "df_score = pd.DataFrame(best_features.pvalues_,columns=['p_values'])\n",
        "df_score['chi2_values'] = best_features.scores_\n",
        "df_score['columns'] = [\"Gender\", \"Customer Type\",\t\"Age\",\t\"Type of Travel\",\t\"Inflight wifi service\",\t\"Departure/Arrival time convenient\",\t\"Ease of Online booking\",\n",
        "                              \"Gate location\", \"Food and drink\", \"Online boarding\", \"Seat comfort\", \"Inflight entertainment\", \"On-board service\", \"Leg room service\", \n",
        "                              \"Baggage handling\", \"Checkin service\", \"Inflight service\", \"Cleanliness\", \"Eco Plus\", \"Eco\", \"Business\"]\n",
        "df_score.sort_values(by='p_values')"
      ]
    },
    {
      "cell_type": "code",
      "execution_count": null,
      "metadata": {
        "colab": {
          "base_uri": "https://localhost:8080/"
        },
        "id": "94hevBUDgJCz",
        "outputId": "d0600bf1-5cc5-4fb0-b720-af9f98e432b4"
      },
      "outputs": [
        {
          "ename": "",
          "evalue": "",
          "output_type": "error",
          "traceback": [
            "\u001b[1;31mRunning cells with 'Python 3.9.13 64-bit (microsoft store)' requires ipykernel package.\n",
            "\u001b[1;31mRun the following command to install 'ipykernel' into the Python environment. \n",
            "\u001b[1;31mCommand: 'c:/Users/abc/AppData/Local/Microsoft/WindowsApps/python3.9.exe -m pip install ipykernel -U --force-reinstall'"
          ]
        }
      ],
      "source": [
        "# chọn ra những features <= alpha\n",
        "df_score[df_score['p_values'] <= 0.05]['columns']"
      ]
    },
    {
      "cell_type": "code",
      "execution_count": null,
      "metadata": {
        "colab": {
          "base_uri": "https://localhost:8080/"
        },
        "id": "o5rU-VpXgYzB",
        "outputId": "264af3c9-03a7-4f38-e255-282f51f78d3f"
      },
      "outputs": [
        {
          "ename": "",
          "evalue": "",
          "output_type": "error",
          "traceback": [
            "\u001b[1;31mRunning cells with 'Python 3.9.13 64-bit (microsoft store)' requires ipykernel package.\n",
            "\u001b[1;31mRun the following command to install 'ipykernel' into the Python environment. \n",
            "\u001b[1;31mCommand: 'c:/Users/abc/AppData/Local/Microsoft/WindowsApps/python3.9.exe -m pip install ipykernel -U --force-reinstall'"
          ]
        }
      ],
      "source": [
        "# chọn ra những features > alpha\n",
        "df_score[df_score['p_values'] > 0.05]['columns']"
      ]
    },
    {
      "cell_type": "markdown",
      "metadata": {
        "id": "gSkyVAwqdr5E"
      },
      "source": [
        "#### ANOVA F-test"
      ]
    },
    {
      "cell_type": "code",
      "execution_count": null,
      "metadata": {
        "id": "CdIlRh_vMpsD"
      },
      "outputs": [
        {
          "ename": "",
          "evalue": "",
          "output_type": "error",
          "traceback": [
            "\u001b[1;31mRunning cells with 'Python 3.9.13 64-bit (microsoft store)' requires ipykernel package.\n",
            "\u001b[1;31mRun the following command to install 'ipykernel' into the Python environment. \n",
            "\u001b[1;31mCommand: 'c:/Users/abc/AppData/Local/Microsoft/WindowsApps/python3.9.exe -m pip install ipykernel -U --force-reinstall'"
          ]
        }
      ],
      "source": [
        "from sklearn.feature_selection import SelectKBest, f_classif"
      ]
    },
    {
      "cell_type": "code",
      "execution_count": null,
      "metadata": {
        "id": "4TJP5hMAaTrY"
      },
      "outputs": [
        {
          "ename": "",
          "evalue": "",
          "output_type": "error",
          "traceback": [
            "\u001b[1;31mRunning cells with 'Python 3.9.13 64-bit (microsoft store)' requires ipykernel package.\n",
            "\u001b[1;31mRun the following command to install 'ipykernel' into the Python environment. \n",
            "\u001b[1;31mCommand: 'c:/Users/abc/AppData/Local/Microsoft/WindowsApps/python3.9.exe -m pip install ipykernel -U --force-reinstall'"
          ]
        }
      ],
      "source": [
        "df_cp = df_cp.dropna()"
      ]
    },
    {
      "cell_type": "code",
      "execution_count": null,
      "metadata": {
        "id": "-2HttB9xZTm_"
      },
      "outputs": [
        {
          "ename": "",
          "evalue": "",
          "output_type": "error",
          "traceback": [
            "\u001b[1;31mRunning cells with 'Python 3.9.13 64-bit (microsoft store)' requires ipykernel package.\n",
            "\u001b[1;31mRun the following command to install 'ipykernel' into the Python environment. \n",
            "\u001b[1;31mCommand: 'c:/Users/abc/AppData/Local/Microsoft/WindowsApps/python3.9.exe -m pip install ipykernel -U --force-reinstall'"
          ]
        }
      ],
      "source": [
        "continous_features  = df_cp[[\"Flight Distance\",\"Departure Delay in Minutes\", \"Arrival Delay in Minutes\"]]"
      ]
    },
    {
      "cell_type": "code",
      "execution_count": null,
      "metadata": {
        "colab": {
          "base_uri": "https://localhost:8080/"
        },
        "id": "3-LZCL-VaFrU",
        "outputId": "9ff152ae-1eef-4576-bc1e-dc77c99b4785"
      },
      "outputs": [
        {
          "ename": "",
          "evalue": "",
          "output_type": "error",
          "traceback": [
            "\u001b[1;31mRunning cells with 'Python 3.9.13 64-bit (microsoft store)' requires ipykernel package.\n",
            "\u001b[1;31mRun the following command to install 'ipykernel' into the Python environment. \n",
            "\u001b[1;31mCommand: 'c:/Users/abc/AppData/Local/Microsoft/WindowsApps/python3.9.exe -m pip install ipykernel -U --force-reinstall'"
          ]
        }
      ],
      "source": [
        "best_features = SelectKBest(f_classif, k=3)\n",
        "best_features.fit(continous_features , df_cp[\"satisfaction\"])"
      ]
    },
    {
      "cell_type": "code",
      "execution_count": null,
      "metadata": {
        "colab": {
          "base_uri": "https://localhost:8080/",
          "height": 0
        },
        "id": "Jv0U0BHTdVsy",
        "outputId": "6294d6c2-6f54-4f3f-c49a-00339fbc1219"
      },
      "outputs": [
        {
          "ename": "",
          "evalue": "",
          "output_type": "error",
          "traceback": [
            "\u001b[1;31mRunning cells with 'Python 3.9.13 64-bit (microsoft store)' requires ipykernel package.\n",
            "\u001b[1;31mRun the following command to install 'ipykernel' into the Python environment. \n",
            "\u001b[1;31mCommand: 'c:/Users/abc/AppData/Local/Microsoft/WindowsApps/python3.9.exe -m pip install ipykernel -U --force-reinstall'"
          ]
        }
      ],
      "source": [
        "df_score = pd.DataFrame(best_features.pvalues_,columns=['p_values'])\n",
        "df_score['anova_values'] = best_features.scores_\n",
        "df_score['columns'] = [\"Flight Distance\",\"Departure Delay in Minutes\", \"Arrival Delay in Minutes\"]\n",
        "df_score.sort_values(by='p_values')"
      ]
    },
    {
      "cell_type": "code",
      "execution_count": null,
      "metadata": {
        "colab": {
          "base_uri": "https://localhost:8080/"
        },
        "id": "Q-Cn1hxgdc0x",
        "outputId": "f4b41603-5e64-4521-b8a2-c034843570eb"
      },
      "outputs": [
        {
          "ename": "",
          "evalue": "",
          "output_type": "error",
          "traceback": [
            "\u001b[1;31mRunning cells with 'Python 3.9.13 64-bit (microsoft store)' requires ipykernel package.\n",
            "\u001b[1;31mRun the following command to install 'ipykernel' into the Python environment. \n",
            "\u001b[1;31mCommand: 'c:/Users/abc/AppData/Local/Microsoft/WindowsApps/python3.9.exe -m pip install ipykernel -U --force-reinstall'"
          ]
        }
      ],
      "source": [
        "# chọn ra những features <= alpha\n",
        "df_score[df_score['p_values'] <= 0.05]['columns']"
      ]
    },
    {
      "cell_type": "markdown",
      "metadata": {
        "id": "PDzmCVOknbeE"
      },
      "source": [
        "### Data Scaling\n",
        "Mục tiêu: Apply Data Normalization lên các continous features [Age, Flight Distance]"
      ]
    },
    {
      "cell_type": "code",
      "execution_count": null,
      "metadata": {
        "id": "Au9J-khdnhNr"
      },
      "outputs": [
        {
          "ename": "",
          "evalue": "",
          "output_type": "error",
          "traceback": [
            "\u001b[1;31mRunning cells with 'Python 3.9.13 64-bit (microsoft store)' requires ipykernel package.\n",
            "\u001b[1;31mRun the following command to install 'ipykernel' into the Python environment. \n",
            "\u001b[1;31mCommand: 'c:/Users/abc/AppData/Local/Microsoft/WindowsApps/python3.9.exe -m pip install ipykernel -U --force-reinstall'"
          ]
        }
      ],
      "source": [
        "from sklearn.preprocessing import MinMaxScaler"
      ]
    },
    {
      "cell_type": "code",
      "execution_count": null,
      "metadata": {
        "id": "eclD13qgo1km"
      },
      "outputs": [
        {
          "ename": "",
          "evalue": "",
          "output_type": "error",
          "traceback": [
            "\u001b[1;31mRunning cells with 'Python 3.9.13 64-bit (microsoft store)' requires ipykernel package.\n",
            "\u001b[1;31mRun the following command to install 'ipykernel' into the Python environment. \n",
            "\u001b[1;31mCommand: 'c:/Users/abc/AppData/Local/Microsoft/WindowsApps/python3.9.exe -m pip install ipykernel -U --force-reinstall'"
          ]
        }
      ],
      "source": [
        "cols_to_scale = [\"Age\", \"Flight Distance\"]\n",
        "scaler = MinMaxScaler()\n",
        "df_cp[cols_to_scale] = scaler.fit_transform(df_cp[cols_to_scale])"
      ]
    },
    {
      "cell_type": "code",
      "execution_count": null,
      "metadata": {
        "colab": {
          "base_uri": "https://localhost:8080/",
          "height": 0
        },
        "id": "mucbuEm9o6Ha",
        "outputId": "2d455675-7622-4b1f-9993-c0d0451b8e41"
      },
      "outputs": [
        {
          "ename": "",
          "evalue": "",
          "output_type": "error",
          "traceback": [
            "\u001b[1;31mRunning cells with 'Python 3.9.13 64-bit (microsoft store)' requires ipykernel package.\n",
            "\u001b[1;31mRun the following command to install 'ipykernel' into the Python environment. \n",
            "\u001b[1;31mCommand: 'c:/Users/abc/AppData/Local/Microsoft/WindowsApps/python3.9.exe -m pip install ipykernel -U --force-reinstall'"
          ]
        }
      ],
      "source": [
        "# result\n",
        "df_cp[cols_to_scale]"
      ]
    },
    {
      "cell_type": "code",
      "execution_count": null,
      "metadata": {
        "colab": {
          "base_uri": "https://localhost:8080/",
          "height": 0
        },
        "id": "_lDIkMkCB9g5",
        "outputId": "fd9a98d3-a2ae-4a3d-a3ec-937036956c53"
      },
      "outputs": [
        {
          "ename": "",
          "evalue": "",
          "output_type": "error",
          "traceback": [
            "\u001b[1;31mRunning cells with 'Python 3.9.13 64-bit (microsoft store)' requires ipykernel package.\n",
            "\u001b[1;31mRun the following command to install 'ipykernel' into the Python environment. \n",
            "\u001b[1;31mCommand: 'c:/Users/abc/AppData/Local/Microsoft/WindowsApps/python3.9.exe -m pip install ipykernel -U --force-reinstall'"
          ]
        }
      ],
      "source": [
        "df_cp.head(10)"
      ]
    },
    {
      "cell_type": "markdown",
      "metadata": {
        "id": "unCB1F9aqBf5"
      },
      "source": [
        "### Final result"
      ]
    },
    {
      "cell_type": "code",
      "execution_count": null,
      "metadata": {
        "id": "KpcxyA5LpM_C"
      },
      "outputs": [
        {
          "ename": "",
          "evalue": "",
          "output_type": "error",
          "traceback": [
            "\u001b[1;31mRunning cells with 'Python 3.9.13 64-bit (microsoft store)' requires ipykernel package.\n",
            "\u001b[1;31mRun the following command to install 'ipykernel' into the Python environment. \n",
            "\u001b[1;31mCommand: 'c:/Users/abc/AppData/Local/Microsoft/WindowsApps/python3.9.exe -m pip install ipykernel -U --force-reinstall'"
          ]
        }
      ],
      "source": [
        "input = df_cp[[\"Flight Distance\",\"Departure Delay in Minutes\", \"Arrival Delay in Minutes\", \"Gender\", \"Customer Type\",\t\"Age\",\t\"Type of Travel\",\t\"Inflight wifi service\",\t\"Departure/Arrival time convenient\",\t\"Ease of Online booking\",\n",
        "                              \"Food and drink\", \"Online boarding\", \"Seat comfort\", \"Inflight entertainment\", \"On-board service\", \"Leg room service\", \n",
        "                              \"Baggage handling\", \"Checkin service\", \"Inflight service\", \"Cleanliness\", \"Eco Plus\", \"Eco\", \"Business\"]].to_numpy()"
      ]
    },
    {
      "cell_type": "code",
      "execution_count": null,
      "metadata": {
        "colab": {
          "base_uri": "https://localhost:8080/"
        },
        "id": "lMJtPDwZqV-u",
        "outputId": "0b50d37c-1520-4ac2-bc69-aca125998c63"
      },
      "outputs": [
        {
          "ename": "",
          "evalue": "",
          "output_type": "error",
          "traceback": [
            "\u001b[1;31mRunning cells with 'Python 3.9.13 64-bit (microsoft store)' requires ipykernel package.\n",
            "\u001b[1;31mRun the following command to install 'ipykernel' into the Python environment. \n",
            "\u001b[1;31mCommand: 'c:/Users/abc/AppData/Local/Microsoft/WindowsApps/python3.9.exe -m pip install ipykernel -U --force-reinstall'"
          ]
        }
      ],
      "source": [
        "input.shape"
      ]
    },
    {
      "cell_type": "code",
      "execution_count": null,
      "metadata": {
        "colab": {
          "base_uri": "https://localhost:8080/"
        },
        "id": "afjESodJCiqO",
        "outputId": "97b70505-fafe-4fd2-97ba-e6006879b506"
      },
      "outputs": [
        {
          "ename": "",
          "evalue": "",
          "output_type": "error",
          "traceback": [
            "\u001b[1;31mRunning cells with 'Python 3.9.13 64-bit (microsoft store)' requires ipykernel package.\n",
            "\u001b[1;31mRun the following command to install 'ipykernel' into the Python environment. \n",
            "\u001b[1;31mCommand: 'c:/Users/abc/AppData/Local/Microsoft/WindowsApps/python3.9.exe -m pip install ipykernel -U --force-reinstall'"
          ]
        }
      ],
      "source": [
        "print(input)"
      ]
    },
    {
      "cell_type": "code",
      "execution_count": null,
      "metadata": {
        "id": "l_HT64XeqjIW"
      },
      "outputs": [
        {
          "ename": "",
          "evalue": "",
          "output_type": "error",
          "traceback": [
            "\u001b[1;31mRunning cells with 'Python 3.9.13 64-bit (microsoft store)' requires ipykernel package.\n",
            "\u001b[1;31mRun the following command to install 'ipykernel' into the Python environment. \n",
            "\u001b[1;31mCommand: 'c:/Users/abc/AppData/Local/Microsoft/WindowsApps/python3.9.exe -m pip install ipykernel -U --force-reinstall'"
          ]
        }
      ],
      "source": [
        "y = df_cp[\"satisfaction\"].to_numpy()"
      ]
    },
    {
      "cell_type": "code",
      "execution_count": null,
      "metadata": {
        "colab": {
          "base_uri": "https://localhost:8080/"
        },
        "id": "DXNITTGcqv9s",
        "outputId": "60097599-c955-4bec-d5fd-709c2323d795"
      },
      "outputs": [
        {
          "ename": "",
          "evalue": "",
          "output_type": "error",
          "traceback": [
            "\u001b[1;31mRunning cells with 'Python 3.9.13 64-bit (microsoft store)' requires ipykernel package.\n",
            "\u001b[1;31mRun the following command to install 'ipykernel' into the Python environment. \n",
            "\u001b[1;31mCommand: 'c:/Users/abc/AppData/Local/Microsoft/WindowsApps/python3.9.exe -m pip install ipykernel -U --force-reinstall'"
          ]
        }
      ],
      "source": [
        "y.shape"
      ]
    },
    {
      "cell_type": "code",
      "execution_count": null,
      "metadata": {
        "colab": {
          "base_uri": "https://localhost:8080/"
        },
        "id": "fbwXaAyiCnjQ",
        "outputId": "265dfd12-f6e9-402b-8a69-3375b4fcd97f"
      },
      "outputs": [
        {
          "ename": "",
          "evalue": "",
          "output_type": "error",
          "traceback": [
            "\u001b[1;31mRunning cells with 'Python 3.9.13 64-bit (microsoft store)' requires ipykernel package.\n",
            "\u001b[1;31mRun the following command to install 'ipykernel' into the Python environment. \n",
            "\u001b[1;31mCommand: 'c:/Users/abc/AppData/Local/Microsoft/WindowsApps/python3.9.exe -m pip install ipykernel -U --force-reinstall'"
          ]
        }
      ],
      "source": [
        "print(y)"
      ]
    },
    {
      "cell_type": "markdown",
      "metadata": {
        "id": "7MgMwE1NLE9L"
      },
      "source": [
        "# **Xây dựng mô hình**"
      ]
    },
    {
      "cell_type": "code",
      "execution_count": null,
      "metadata": {
        "id": "Yihqr9CdLUBg"
      },
      "outputs": [
        {
          "ename": "",
          "evalue": "",
          "output_type": "error",
          "traceback": [
            "\u001b[1;31mRunning cells with 'Python 3.9.13 64-bit (microsoft store)' requires ipykernel package.\n",
            "\u001b[1;31mRun the following command to install 'ipykernel' into the Python environment. \n",
            "\u001b[1;31mCommand: 'c:/Users/abc/AppData/Local/Microsoft/WindowsApps/python3.9.exe -m pip install ipykernel -U --force-reinstall'"
          ]
        }
      ],
      "source": [
        "from sklearn.model_selection import StratifiedKFold, StratifiedShuffleSplit\n",
        "from sklearn.linear_model import LogisticRegression\n",
        "from xgboost import XGBClassifier\n",
        "from sklearn.tree import DecisionTreeClassifier\n",
        "from sklearn.metrics import classification_report, accuracy_score, confusion_matrix\n",
        "from sklearn.ensemble import RandomForestClassifier\n",
        "from sklearn.naive_bayes import GaussianNB\n",
        "from sklearn.ensemble import AdaBoostClassifier\n",
        "import time"
      ]
    },
    {
      "cell_type": "code",
      "execution_count": null,
      "metadata": {
        "id": "3mWX1TtdLYoJ"
      },
      "outputs": [
        {
          "ename": "",
          "evalue": "",
          "output_type": "error",
          "traceback": [
            "\u001b[1;31mRunning cells with 'Python 3.9.13 64-bit (microsoft store)' requires ipykernel package.\n",
            "\u001b[1;31mRun the following command to install 'ipykernel' into the Python environment. \n",
            "\u001b[1;31mCommand: 'c:/Users/abc/AppData/Local/Microsoft/WindowsApps/python3.9.exe -m pip install ipykernel -U --force-reinstall'"
          ]
        }
      ],
      "source": [
        "sns.set(font_scale=1.8)"
      ]
    },
    {
      "cell_type": "markdown",
      "metadata": {
        "id": "tsTgnQUkNHI1"
      },
      "source": [
        "## Gaussian Naive Bayes"
      ]
    },
    {
      "cell_type": "code",
      "execution_count": null,
      "metadata": {
        "id": "11C9U91eOXWS"
      },
      "outputs": [
        {
          "ename": "",
          "evalue": "",
          "output_type": "error",
          "traceback": [
            "\u001b[1;31mRunning cells with 'Python 3.9.13 64-bit (microsoft store)' requires ipykernel package.\n",
            "\u001b[1;31mRun the following command to install 'ipykernel' into the Python environment. \n",
            "\u001b[1;31mCommand: 'c:/Users/abc/AppData/Local/Microsoft/WindowsApps/python3.9.exe -m pip install ipykernel -U --force-reinstall'"
          ]
        }
      ],
      "source": [
        "sss = StratifiedShuffleSplit(n_splits=1, test_size=0.2, random_state=42)\n",
        "\n",
        "train_index, val_index = next(iter(sss.split(input, y)))\n",
        "X_train, X_test = input[train_index], input[val_index]\n",
        "y_train, y_test = y[train_index], y[val_index]"
      ]
    },
    {
      "cell_type": "code",
      "execution_count": null,
      "metadata": {
        "id": "E_OXC5D4OX-S"
      },
      "outputs": [
        {
          "ename": "",
          "evalue": "",
          "output_type": "error",
          "traceback": [
            "\u001b[1;31mRunning cells with 'Python 3.9.13 64-bit (microsoft store)' requires ipykernel package.\n",
            "\u001b[1;31mRun the following command to install 'ipykernel' into the Python environment. \n",
            "\u001b[1;31mCommand: 'c:/Users/abc/AppData/Local/Microsoft/WindowsApps/python3.9.exe -m pip install ipykernel -U --force-reinstall'"
          ]
        }
      ],
      "source": [
        "start = time.process_time()   \n",
        "\n",
        "bayes = GaussianNB()\n",
        "bayes.fit(X_train, y_train)\n",
        "y_pred = bayes.predict(X_test)\n",
        "\n",
        "totaltime = time.process_time() - start"
      ]
    },
    {
      "cell_type": "code",
      "execution_count": null,
      "metadata": {
        "colab": {
          "base_uri": "https://localhost:8080/"
        },
        "id": "erJsO0rLOjKY",
        "outputId": "9a5b3047-d4c7-4bf1-e19b-52948cafbfcf"
      },
      "outputs": [
        {
          "ename": "",
          "evalue": "",
          "output_type": "error",
          "traceback": [
            "\u001b[1;31mRunning cells with 'Python 3.9.13 64-bit (microsoft store)' requires ipykernel package.\n",
            "\u001b[1;31mRun the following command to install 'ipykernel' into the Python environment. \n",
            "\u001b[1;31mCommand: 'c:/Users/abc/AppData/Local/Microsoft/WindowsApps/python3.9.exe -m pip install ipykernel -U --force-reinstall'"
          ]
        }
      ],
      "source": [
        "print(f\"time = {totaltime}\")\n",
        "print(f\"Accuracy = {accuracy_score(y_test, y_pred)}\")\n",
        "print(classification_report(y_test, y_pred, target_names=[\"satisfied\", \"neutral or dissatisfied\"]))"
      ]
    },
    {
      "cell_type": "code",
      "execution_count": null,
      "metadata": {
        "colab": {
          "base_uri": "https://localhost:8080/",
          "height": 0
        },
        "id": "fOPUDj92Oq5L",
        "outputId": "0221b37b-ba35-4ded-9eba-b2b40f5a2b66"
      },
      "outputs": [
        {
          "ename": "",
          "evalue": "",
          "output_type": "error",
          "traceback": [
            "\u001b[1;31mRunning cells with 'Python 3.9.13 64-bit (microsoft store)' requires ipykernel package.\n",
            "\u001b[1;31mRun the following command to install 'ipykernel' into the Python environment. \n",
            "\u001b[1;31mCommand: 'c:/Users/abc/AppData/Local/Microsoft/WindowsApps/python3.9.exe -m pip install ipykernel -U --force-reinstall'"
          ]
        }
      ],
      "source": [
        "gauss_cm = confusion_matrix(y_test, y_pred)\n",
        "plt.figure(figsize=(12, 8))\n",
        "plt.title(\"Confusion matrix with accuracy = {0}\".format(accuracy_score(y_test, y_pred)), size=15)\n",
        "ax = sns.heatmap(gauss_cm, annot=True, fmt=\"g\", cmap=\"Blues\", xticklabels=[\"satisfied\", \"neutral or dissatisfied\"], yticklabels=[\"satisfied\", \"neutral or dissatisfied\"])\n",
        "ax.set_ylabel(\"True Label\", fontsize=15)\n",
        "ax.set_xlabel(\"Predict Label\", fontsize=15)\n",
        "plt.show()"
      ]
    },
    {
      "cell_type": "markdown",
      "metadata": {
        "id": "-WfHZ69POePA"
      },
      "source": [
        "## Logistic Regression"
      ]
    },
    {
      "cell_type": "code",
      "execution_count": null,
      "metadata": {
        "id": "hhqB0DtgZFBd"
      },
      "outputs": [
        {
          "ename": "",
          "evalue": "",
          "output_type": "error",
          "traceback": [
            "\u001b[1;31mRunning cells with 'Python 3.9.13 64-bit (microsoft store)' requires ipykernel package.\n",
            "\u001b[1;31mRun the following command to install 'ipykernel' into the Python environment. \n",
            "\u001b[1;31mCommand: 'c:/Users/abc/AppData/Local/Microsoft/WindowsApps/python3.9.exe -m pip install ipykernel -U --force-reinstall'"
          ]
        }
      ],
      "source": [
        "sss = StratifiedShuffleSplit(n_splits=1, test_size=0.2, random_state=42)\n",
        "\n",
        "train_index, val_index = next(iter(sss.split(input, y)))\n",
        "X_train, X_test = input[train_index], input[val_index]\n",
        "y_train, y_test = y[train_index], y[val_index]"
      ]
    },
    {
      "cell_type": "code",
      "execution_count": null,
      "metadata": {
        "colab": {
          "base_uri": "https://localhost:8080/"
        },
        "id": "JD6VcQslO9X2",
        "outputId": "1ef625b3-71df-4802-cbfb-a40e04421a54"
      },
      "outputs": [
        {
          "ename": "",
          "evalue": "",
          "output_type": "error",
          "traceback": [
            "\u001b[1;31mRunning cells with 'Python 3.9.13 64-bit (microsoft store)' requires ipykernel package.\n",
            "\u001b[1;31mRun the following command to install 'ipykernel' into the Python environment. \n",
            "\u001b[1;31mCommand: 'c:/Users/abc/AppData/Local/Microsoft/WindowsApps/python3.9.exe -m pip install ipykernel -U --force-reinstall'"
          ]
        }
      ],
      "source": [
        "start = time.process_time() \n",
        "\n",
        "logreg = LogisticRegression()\n",
        "logreg.fit(X_train, y_train)\n",
        "y_pred = logreg.predict(X_test)\n",
        "\n",
        "totaltime = time.process_time() - start"
      ]
    },
    {
      "cell_type": "code",
      "execution_count": null,
      "metadata": {
        "colab": {
          "base_uri": "https://localhost:8080/"
        },
        "id": "pOdKAaT9PO0g",
        "outputId": "2900fb45-c427-4712-eeb9-e86526f4c4bf"
      },
      "outputs": [
        {
          "ename": "",
          "evalue": "",
          "output_type": "error",
          "traceback": [
            "\u001b[1;31mRunning cells with 'Python 3.9.13 64-bit (microsoft store)' requires ipykernel package.\n",
            "\u001b[1;31mRun the following command to install 'ipykernel' into the Python environment. \n",
            "\u001b[1;31mCommand: 'c:/Users/abc/AppData/Local/Microsoft/WindowsApps/python3.9.exe -m pip install ipykernel -U --force-reinstall'"
          ]
        }
      ],
      "source": [
        "print(f\"time = {totaltime}\")\n",
        "print(f\"Accuracy = {accuracy_score(y_test, y_pred)}\")\n",
        "print(classification_report(y_test, y_pred, target_names=[\"satisfied\", \"neutral or dissatisfied\"]))"
      ]
    },
    {
      "cell_type": "code",
      "execution_count": null,
      "metadata": {
        "colab": {
          "base_uri": "https://localhost:8080/",
          "height": 0
        },
        "id": "6QjGh4TEO_Sr",
        "outputId": "5d98d0e9-5d00-4a09-b6fc-a6e2f47c3d35"
      },
      "outputs": [
        {
          "ename": "",
          "evalue": "",
          "output_type": "error",
          "traceback": [
            "\u001b[1;31mRunning cells with 'Python 3.9.13 64-bit (microsoft store)' requires ipykernel package.\n",
            "\u001b[1;31mRun the following command to install 'ipykernel' into the Python environment. \n",
            "\u001b[1;31mCommand: 'c:/Users/abc/AppData/Local/Microsoft/WindowsApps/python3.9.exe -m pip install ipykernel -U --force-reinstall'"
          ]
        }
      ],
      "source": [
        "log_cm = confusion_matrix(y_test, y_pred)\n",
        "plt.figure(figsize=(12, 8))\n",
        "plt.title(\"Confusion matrix with accuracy = {0}\".format(accuracy_score(y_test, y_pred)), size=15)\n",
        "ax = sns.heatmap(log_cm, annot=True, fmt=\"g\", cmap=\"Blues\", xticklabels=[\"satisfied\", \"neutral or dissatisfied\"], yticklabels=[\"satisfied\", \"neutral or dissatisfied\"])\n",
        "ax.set_ylabel(\"True Label\", fontsize=15)\n",
        "ax.set_xlabel(\"Predict Label\", fontsize=15)\n",
        "plt.show()"
      ]
    },
    {
      "cell_type": "markdown",
      "metadata": {
        "id": "8ww7DbrsgBRE"
      },
      "source": [
        "## Decision Trees"
      ]
    },
    {
      "cell_type": "code",
      "execution_count": null,
      "metadata": {
        "id": "QPs7pkZ_gAq0"
      },
      "outputs": [
        {
          "ename": "",
          "evalue": "",
          "output_type": "error",
          "traceback": [
            "\u001b[1;31mRunning cells with 'Python 3.9.13 64-bit (microsoft store)' requires ipykernel package.\n",
            "\u001b[1;31mRun the following command to install 'ipykernel' into the Python environment. \n",
            "\u001b[1;31mCommand: 'c:/Users/abc/AppData/Local/Microsoft/WindowsApps/python3.9.exe -m pip install ipykernel -U --force-reinstall'"
          ]
        }
      ],
      "source": [
        "sss = StratifiedShuffleSplit(n_splits=1, test_size=0.2, random_state=42)\n",
        "\n",
        "train_index, val_index = next(iter(sss.split(input, y)))\n",
        "X_train, X_test = input[train_index], input[val_index]\n",
        "y_train, y_test = y[train_index], y[val_index]"
      ]
    },
    {
      "cell_type": "code",
      "execution_count": null,
      "metadata": {
        "id": "HBqxIC7qgL-Z"
      },
      "outputs": [
        {
          "ename": "",
          "evalue": "",
          "output_type": "error",
          "traceback": [
            "\u001b[1;31mRunning cells with 'Python 3.9.13 64-bit (microsoft store)' requires ipykernel package.\n",
            "\u001b[1;31mRun the following command to install 'ipykernel' into the Python environment. \n",
            "\u001b[1;31mCommand: 'c:/Users/abc/AppData/Local/Microsoft/WindowsApps/python3.9.exe -m pip install ipykernel -U --force-reinstall'"
          ]
        }
      ],
      "source": [
        "start = time.process_time()   \n",
        "\n",
        "clf_gini = DecisionTreeClassifier()\n",
        "clf_gini.fit(X_train, y_train)\n",
        "y_pred = clf_gini.predict(X_test)\n",
        "\n",
        "totaltime = time.process_time() - start"
      ]
    },
    {
      "cell_type": "code",
      "execution_count": null,
      "metadata": {
        "colab": {
          "base_uri": "https://localhost:8080/"
        },
        "id": "VHuJ6pZxgQ92",
        "outputId": "eeed962d-4c00-414a-df84-4b7e1cdd8e54"
      },
      "outputs": [
        {
          "ename": "",
          "evalue": "",
          "output_type": "error",
          "traceback": [
            "\u001b[1;31mRunning cells with 'Python 3.9.13 64-bit (microsoft store)' requires ipykernel package.\n",
            "\u001b[1;31mRun the following command to install 'ipykernel' into the Python environment. \n",
            "\u001b[1;31mCommand: 'c:/Users/abc/AppData/Local/Microsoft/WindowsApps/python3.9.exe -m pip install ipykernel -U --force-reinstall'"
          ]
        }
      ],
      "source": [
        "print(f\"time = {totaltime}\")\n",
        "print(f\"Accuracy = {accuracy_score(y_test, y_pred)}\")\n",
        "print(classification_report(y_test, y_pred, target_names=[\"satisfied\", \"neutral or dissatisfied\"]))"
      ]
    },
    {
      "cell_type": "code",
      "execution_count": null,
      "metadata": {
        "colab": {
          "base_uri": "https://localhost:8080/",
          "height": 0
        },
        "id": "pi-LWsU5gf5S",
        "outputId": "9927da1d-364e-4864-d483-fe2869b1e246"
      },
      "outputs": [
        {
          "ename": "",
          "evalue": "",
          "output_type": "error",
          "traceback": [
            "\u001b[1;31mRunning cells with 'Python 3.9.13 64-bit (microsoft store)' requires ipykernel package.\n",
            "\u001b[1;31mRun the following command to install 'ipykernel' into the Python environment. \n",
            "\u001b[1;31mCommand: 'c:/Users/abc/AppData/Local/Microsoft/WindowsApps/python3.9.exe -m pip install ipykernel -U --force-reinstall'"
          ]
        }
      ],
      "source": [
        "dt_cm = confusion_matrix(y_test, y_pred)\n",
        "plt.figure(figsize=(12, 8))\n",
        "plt.title(\"Confusion matrix with accuracy = {0}\".format(accuracy_score(y_test, y_pred)), size=15)\n",
        "ax = sns.heatmap(dt_cm, annot=True, fmt=\"g\", cmap=\"Blues\", xticklabels=[\"satisfied\", \"neutral or dissatisfied\"], yticklabels=[\"satisfied\", \"neutral or dissatisfied\"])\n",
        "ax.set_ylabel(\"True Label\", fontsize=15)\n",
        "ax.set_xlabel(\"Predict Label\", fontsize=15)\n",
        "plt.show()"
      ]
    },
    {
      "cell_type": "markdown",
      "metadata": {
        "id": "iPdYIUjcOuqZ"
      },
      "source": [
        "## Random Forest"
      ]
    },
    {
      "cell_type": "code",
      "execution_count": null,
      "metadata": {
        "id": "Rr75-n0NOxj5"
      },
      "outputs": [
        {
          "ename": "",
          "evalue": "",
          "output_type": "error",
          "traceback": [
            "\u001b[1;31mRunning cells with 'Python 3.9.13 64-bit (microsoft store)' requires ipykernel package.\n",
            "\u001b[1;31mRun the following command to install 'ipykernel' into the Python environment. \n",
            "\u001b[1;31mCommand: 'c:/Users/abc/AppData/Local/Microsoft/WindowsApps/python3.9.exe -m pip install ipykernel -U --force-reinstall'"
          ]
        }
      ],
      "source": [
        "sss = StratifiedShuffleSplit(n_splits=1, test_size=0.2, random_state=42)\n",
        "\n",
        "train_index, val_index = next(iter(sss.split(input, y)))\n",
        "X_train, X_test = input[train_index], input[val_index]\n",
        "y_train, y_test = y[train_index], y[val_index]"
      ]
    },
    {
      "cell_type": "code",
      "execution_count": null,
      "metadata": {
        "id": "dSxRONAzOy4h"
      },
      "outputs": [
        {
          "ename": "",
          "evalue": "",
          "output_type": "error",
          "traceback": [
            "\u001b[1;31mRunning cells with 'Python 3.9.13 64-bit (microsoft store)' requires ipykernel package.\n",
            "\u001b[1;31mRun the following command to install 'ipykernel' into the Python environment. \n",
            "\u001b[1;31mCommand: 'c:/Users/abc/AppData/Local/Microsoft/WindowsApps/python3.9.exe -m pip install ipykernel -U --force-reinstall'"
          ]
        }
      ],
      "source": [
        "start = time.process_time()   \n",
        "\n",
        "rf = RandomForestClassifier()\n",
        "rf.fit(X_train,y_train)\n",
        "y_pred = rf.predict(X_test)\n",
        "\n",
        "totaltime = time.process_time() - start"
      ]
    },
    {
      "cell_type": "code",
      "execution_count": null,
      "metadata": {
        "colab": {
          "base_uri": "https://localhost:8080/"
        },
        "id": "Phtk5xeKO4QX",
        "outputId": "365306d8-0056-43e2-83ac-68bfcdc111b0"
      },
      "outputs": [
        {
          "ename": "",
          "evalue": "",
          "output_type": "error",
          "traceback": [
            "\u001b[1;31mRunning cells with 'Python 3.9.13 64-bit (microsoft store)' requires ipykernel package.\n",
            "\u001b[1;31mRun the following command to install 'ipykernel' into the Python environment. \n",
            "\u001b[1;31mCommand: 'c:/Users/abc/AppData/Local/Microsoft/WindowsApps/python3.9.exe -m pip install ipykernel -U --force-reinstall'"
          ]
        }
      ],
      "source": [
        "print(f\"time = {totaltime}\")\n",
        "print(f\"Accuracy = {accuracy_score(y_test, y_pred)}\")\n",
        "print(classification_report(y_test, y_pred, target_names=[\"satisfied\", \"neutral or dissatisfied\"]))"
      ]
    },
    {
      "cell_type": "code",
      "execution_count": null,
      "metadata": {
        "colab": {
          "base_uri": "https://localhost:8080/",
          "height": 0
        },
        "id": "igxwQGa6PNkl",
        "outputId": "f97a31b5-a4df-403d-e2af-5d3219d88252"
      },
      "outputs": [
        {
          "ename": "",
          "evalue": "",
          "output_type": "error",
          "traceback": [
            "\u001b[1;31mRunning cells with 'Python 3.9.13 64-bit (microsoft store)' requires ipykernel package.\n",
            "\u001b[1;31mRun the following command to install 'ipykernel' into the Python environment. \n",
            "\u001b[1;31mCommand: 'c:/Users/abc/AppData/Local/Microsoft/WindowsApps/python3.9.exe -m pip install ipykernel -U --force-reinstall'"
          ]
        }
      ],
      "source": [
        "rf_cm = confusion_matrix(y_test, y_pred)\n",
        "plt.figure(figsize=(12, 8))\n",
        "plt.title(\"Confusion matrix with accuracy = {0}\".format(accuracy_score(y_test, y_pred)), size=15)\n",
        "ax = sns.heatmap(rf_cm, annot=True, fmt=\"g\", cmap=\"Blues\", xticklabels=[\"satisfied\", \"neutral or dissatisfied\"], yticklabels=[\"satisfied\", \"neutral or dissatisfied\"])\n",
        "ax.set_ylabel(\"True Label\", fontsize=15)\n",
        "ax.set_xlabel(\"Predict Label\", fontsize=15)\n",
        "plt.show()"
      ]
    },
    {
      "cell_type": "code",
      "execution_count": null,
      "metadata": {
        "id": "1tG_mbIOaMQp"
      },
      "outputs": [
        {
          "ename": "",
          "evalue": "",
          "output_type": "error",
          "traceback": [
            "\u001b[1;31mRunning cells with 'Python 3.9.13 64-bit (microsoft store)' requires ipykernel package.\n",
            "\u001b[1;31mRun the following command to install 'ipykernel' into the Python environment. \n",
            "\u001b[1;31mCommand: 'c:/Users/abc/AppData/Local/Microsoft/WindowsApps/python3.9.exe -m pip install ipykernel -U --force-reinstall'"
          ]
        }
      ],
      "source": [
        "# Saving model\n",
        "import pickle as pkl\n",
        "pkl.dump(rf, open(\"rf_model.pkl\", \"wb\"))"
      ]
    },
    {
      "cell_type": "markdown",
      "metadata": {
        "id": "plI-o3rQgW6u"
      },
      "source": [
        "## XGBoost"
      ]
    },
    {
      "cell_type": "code",
      "execution_count": null,
      "metadata": {
        "id": "74dSPxYvgbDg"
      },
      "outputs": [
        {
          "ename": "",
          "evalue": "",
          "output_type": "error",
          "traceback": [
            "\u001b[1;31mRunning cells with 'Python 3.9.13 64-bit (microsoft store)' requires ipykernel package.\n",
            "\u001b[1;31mRun the following command to install 'ipykernel' into the Python environment. \n",
            "\u001b[1;31mCommand: 'c:/Users/abc/AppData/Local/Microsoft/WindowsApps/python3.9.exe -m pip install ipykernel -U --force-reinstall'"
          ]
        }
      ],
      "source": [
        "sss = StratifiedShuffleSplit(n_splits=1, test_size=0.2, random_state=42)\n",
        "\n",
        "train_index, val_index = next(iter(sss.split(input, y)))\n",
        "X_train, X_test = input[train_index], input[val_index]\n",
        "y_train, y_test = y[train_index], y[val_index]"
      ]
    },
    {
      "cell_type": "code",
      "execution_count": null,
      "metadata": {
        "id": "Y-xryxVwhN8x"
      },
      "outputs": [
        {
          "ename": "",
          "evalue": "",
          "output_type": "error",
          "traceback": [
            "\u001b[1;31mRunning cells with 'Python 3.9.13 64-bit (microsoft store)' requires ipykernel package.\n",
            "\u001b[1;31mRun the following command to install 'ipykernel' into the Python environment. \n",
            "\u001b[1;31mCommand: 'c:/Users/abc/AppData/Local/Microsoft/WindowsApps/python3.9.exe -m pip install ipykernel -U --force-reinstall'"
          ]
        }
      ],
      "source": [
        "start = time.process_time()   \n",
        "\n",
        "xgb_classifier = XGBClassifier()\n",
        "xgb_classifier.fit(X_train, y_train)\n",
        "y_pred = xgb_classifier.predict(X_test)\n",
        "\n",
        "totaltime = time.process_time() - start"
      ]
    },
    {
      "cell_type": "code",
      "execution_count": null,
      "metadata": {
        "colab": {
          "base_uri": "https://localhost:8080/"
        },
        "id": "KDF_sN7ShQrd",
        "outputId": "c68b4e35-ff1a-4ecd-a430-d6746aab6981"
      },
      "outputs": [
        {
          "ename": "",
          "evalue": "",
          "output_type": "error",
          "traceback": [
            "\u001b[1;31mRunning cells with 'Python 3.9.13 64-bit (microsoft store)' requires ipykernel package.\n",
            "\u001b[1;31mRun the following command to install 'ipykernel' into the Python environment. \n",
            "\u001b[1;31mCommand: 'c:/Users/abc/AppData/Local/Microsoft/WindowsApps/python3.9.exe -m pip install ipykernel -U --force-reinstall'"
          ]
        }
      ],
      "source": [
        "print(f\"time = {totaltime}\")\n",
        "print(f\"Accuracy = {accuracy_score(y_test, y_pred)}\")\n",
        "print(classification_report(y_test, y_pred, target_names=[\"satisfied\", \"neutral or dissatisfied\"]))"
      ]
    },
    {
      "cell_type": "code",
      "execution_count": null,
      "metadata": {
        "colab": {
          "base_uri": "https://localhost:8080/",
          "height": 0
        },
        "id": "mMii_tWFhTs2",
        "outputId": "8b1f3213-b4e4-4ea2-e8b4-40dd43058116"
      },
      "outputs": [
        {
          "ename": "",
          "evalue": "",
          "output_type": "error",
          "traceback": [
            "\u001b[1;31mRunning cells with 'Python 3.9.13 64-bit (microsoft store)' requires ipykernel package.\n",
            "\u001b[1;31mRun the following command to install 'ipykernel' into the Python environment. \n",
            "\u001b[1;31mCommand: 'c:/Users/abc/AppData/Local/Microsoft/WindowsApps/python3.9.exe -m pip install ipykernel -U --force-reinstall'"
          ]
        }
      ],
      "source": [
        "xgb_cm = confusion_matrix(y_test, y_pred)\n",
        "plt.figure(figsize=(12, 8))\n",
        "plt.title(\"Confusion matrix with accuracy = {0}\".format(accuracy_score(y_test, y_pred)), size=15)\n",
        "ax = sns.heatmap(xgb_cm, annot=True, fmt=\"g\", cmap=\"Blues\", xticklabels=[\"satisfied\", \"neutral or dissatisfied\"], yticklabels=[\"satisfied\", \"neutral or dissatisfied\"])\n",
        "ax.set_ylabel(\"True Label\", fontsize=15)\n",
        "ax.set_xlabel(\"Predict Label\", fontsize=15)\n",
        "plt.show()"
      ]
    },
    {
      "cell_type": "markdown",
      "metadata": {
        "id": "Hq3nhhNNwhIn"
      },
      "source": [
        "# GridSearchCV"
      ]
    },
    {
      "cell_type": "code",
      "execution_count": null,
      "metadata": {
        "id": "FZPuHJmRuaXd"
      },
      "outputs": [
        {
          "ename": "",
          "evalue": "",
          "output_type": "error",
          "traceback": [
            "\u001b[1;31mRunning cells with 'Python 3.9.13 64-bit (microsoft store)' requires ipykernel package.\n",
            "\u001b[1;31mRun the following command to install 'ipykernel' into the Python environment. \n",
            "\u001b[1;31mCommand: 'c:/Users/abc/AppData/Local/Microsoft/WindowsApps/python3.9.exe -m pip install ipykernel -U --force-reinstall'"
          ]
        }
      ],
      "source": [
        "# from imblearn.over_sampling import SMOTE\n",
        "# from sklearn.model_selection import GridSearchCV\n",
        "# from xgboost import XGBClassifier\n",
        "# from sklearn.linear_model import LogisticRegression\n",
        "# from sklearn.tree import DecisionTreeClassifier"
      ]
    },
    {
      "cell_type": "code",
      "execution_count": null,
      "metadata": {
        "id": "2XEXwUaSxejo"
      },
      "outputs": [
        {
          "ename": "",
          "evalue": "",
          "output_type": "error",
          "traceback": [
            "\u001b[1;31mRunning cells with 'Python 3.9.13 64-bit (microsoft store)' requires ipykernel package.\n",
            "\u001b[1;31mRun the following command to install 'ipykernel' into the Python environment. \n",
            "\u001b[1;31mCommand: 'c:/Users/abc/AppData/Local/Microsoft/WindowsApps/python3.9.exe -m pip install ipykernel -U --force-reinstall'"
          ]
        }
      ],
      "source": [
        "# X = df_cp[[\"Flight Distance\",\"Departure Delay in Minutes\", \"Arrival Delay in Minutes\", \"Gender\", \"Customer Type\",\t\"Age\",\t\"Type of Travel\",\t\"Inflight wifi service\",\t\"Departure/Arrival time convenient\",\t\"Ease of Online booking\",\n",
        "#                               \"Food and drink\", \"Online boarding\", \"Seat comfort\", \"Inflight entertainment\", \"On-board service\", \"Leg room service\", \n",
        "#                               \"Baggage handling\", \"Checkin service\", \"Inflight service\", \"Cleanliness\", \"Eco Plus\", \"Eco\", \"Business\"]]\n",
        "# y = df_cp[\"satisfaction\"]"
      ]
    },
    {
      "cell_type": "code",
      "execution_count": null,
      "metadata": {
        "id": "PT5Cos47xwuW"
      },
      "outputs": [
        {
          "ename": "",
          "evalue": "",
          "output_type": "error",
          "traceback": [
            "\u001b[1;31mRunning cells with 'Python 3.9.13 64-bit (microsoft store)' requires ipykernel package.\n",
            "\u001b[1;31mRun the following command to install 'ipykernel' into the Python environment. \n",
            "\u001b[1;31mCommand: 'c:/Users/abc/AppData/Local/Microsoft/WindowsApps/python3.9.exe -m pip install ipykernel -U --force-reinstall'"
          ]
        }
      ],
      "source": [
        "# smote = SMOTE(sampling_strategy='minority')\n",
        "# X_sm, y_sm = smote.fit_resample(X, y)"
      ]
    },
    {
      "cell_type": "code",
      "execution_count": null,
      "metadata": {
        "id": "9akyoC7lxzsc"
      },
      "outputs": [
        {
          "ename": "",
          "evalue": "",
          "output_type": "error",
          "traceback": [
            "\u001b[1;31mRunning cells with 'Python 3.9.13 64-bit (microsoft store)' requires ipykernel package.\n",
            "\u001b[1;31mRun the following command to install 'ipykernel' into the Python environment. \n",
            "\u001b[1;31mCommand: 'c:/Users/abc/AppData/Local/Microsoft/WindowsApps/python3.9.exe -m pip install ipykernel -U --force-reinstall'"
          ]
        }
      ],
      "source": [
        "# # check giá trị sau khi oversampling\n",
        "# y_sm.value_counts()"
      ]
    },
    {
      "cell_type": "code",
      "execution_count": null,
      "metadata": {
        "id": "qg2eaqqzzTwO"
      },
      "outputs": [
        {
          "ename": "",
          "evalue": "",
          "output_type": "error",
          "traceback": [
            "\u001b[1;31mRunning cells with 'Python 3.9.13 64-bit (microsoft store)' requires ipykernel package.\n",
            "\u001b[1;31mRun the following command to install 'ipykernel' into the Python environment. \n",
            "\u001b[1;31mCommand: 'c:/Users/abc/AppData/Local/Microsoft/WindowsApps/python3.9.exe -m pip install ipykernel -U --force-reinstall'"
          ]
        }
      ],
      "source": [
        "# input = X_sm.to_numpy()\n",
        "# y = y_sm.to_numpy()"
      ]
    },
    {
      "cell_type": "code",
      "execution_count": null,
      "metadata": {
        "id": "REvGVli0zVZd"
      },
      "outputs": [
        {
          "ename": "",
          "evalue": "",
          "output_type": "error",
          "traceback": [
            "\u001b[1;31mRunning cells with 'Python 3.9.13 64-bit (microsoft store)' requires ipykernel package.\n",
            "\u001b[1;31mRun the following command to install 'ipykernel' into the Python environment. \n",
            "\u001b[1;31mCommand: 'c:/Users/abc/AppData/Local/Microsoft/WindowsApps/python3.9.exe -m pip install ipykernel -U --force-reinstall'"
          ]
        }
      ],
      "source": [
        "# y.shape"
      ]
    },
    {
      "cell_type": "markdown",
      "metadata": {
        "id": "A0sIlW3wzXKA"
      },
      "source": [
        "## Logistic Regression"
      ]
    },
    {
      "cell_type": "code",
      "execution_count": null,
      "metadata": {
        "id": "t14lXrcqwj11"
      },
      "outputs": [
        {
          "ename": "",
          "evalue": "",
          "output_type": "error",
          "traceback": [
            "\u001b[1;31mRunning cells with 'Python 3.9.13 64-bit (microsoft store)' requires ipykernel package.\n",
            "\u001b[1;31mRun the following command to install 'ipykernel' into the Python environment. \n",
            "\u001b[1;31mCommand: 'c:/Users/abc/AppData/Local/Microsoft/WindowsApps/python3.9.exe -m pip install ipykernel -U --force-reinstall'"
          ]
        }
      ],
      "source": [
        "# from sklearn.model_selection import GridSearchCV\n",
        "# sss = StratifiedShuffleSplit(n_splits=1, test_size=0.2, random_state=42)\n",
        "\n",
        "# train_index, val_index = next(iter(sss.split(input, y)))\n",
        "# X_train, X_test = input[train_index], input[val_index]\n",
        "# y_train, y_test = y[train_index], y[val_index]"
      ]
    },
    {
      "cell_type": "code",
      "execution_count": null,
      "metadata": {
        "id": "fucXDYrFtALH"
      },
      "outputs": [
        {
          "ename": "",
          "evalue": "",
          "output_type": "error",
          "traceback": [
            "\u001b[1;31mRunning cells with 'Python 3.9.13 64-bit (microsoft store)' requires ipykernel package.\n",
            "\u001b[1;31mRun the following command to install 'ipykernel' into the Python environment. \n",
            "\u001b[1;31mCommand: 'c:/Users/abc/AppData/Local/Microsoft/WindowsApps/python3.9.exe -m pip install ipykernel -U --force-reinstall'"
          ]
        }
      ],
      "source": [
        "# logreg = LogisticRegression()\n",
        "# parameters = [{'C':[0.1,0.5, 1.0, 10.0], \n",
        "#                'solver':['sag', 'liblinear', 'lbfgs']}]\n",
        "\n",
        "# model_lr_grid = GridSearchCV(estimator = logreg,  \n",
        "#                            param_grid = parameters,\n",
        "#                            scoring = 'accuracy',\n",
        "#                            cv = 3,\n",
        "#                            verbose=0)"
      ]
    },
    {
      "cell_type": "code",
      "execution_count": null,
      "metadata": {
        "id": "34ZuPBt4ulgS"
      },
      "outputs": [
        {
          "ename": "",
          "evalue": "",
          "output_type": "error",
          "traceback": [
            "\u001b[1;31mRunning cells with 'Python 3.9.13 64-bit (microsoft store)' requires ipykernel package.\n",
            "\u001b[1;31mRun the following command to install 'ipykernel' into the Python environment. \n",
            "\u001b[1;31mCommand: 'c:/Users/abc/AppData/Local/Microsoft/WindowsApps/python3.9.exe -m pip install ipykernel -U --force-reinstall'"
          ]
        }
      ],
      "source": [
        "# model_lr_grid.fit(X_train, y_train)"
      ]
    },
    {
      "cell_type": "code",
      "execution_count": null,
      "metadata": {
        "id": "YQNTF_2luQlA"
      },
      "outputs": [
        {
          "ename": "",
          "evalue": "",
          "output_type": "error",
          "traceback": [
            "\u001b[1;31mRunning cells with 'Python 3.9.13 64-bit (microsoft store)' requires ipykernel package.\n",
            "\u001b[1;31mRun the following command to install 'ipykernel' into the Python environment. \n",
            "\u001b[1;31mCommand: 'c:/Users/abc/AppData/Local/Microsoft/WindowsApps/python3.9.exe -m pip install ipykernel -U --force-reinstall'"
          ]
        }
      ],
      "source": [
        "# model_lr_grid.best_params_"
      ]
    },
    {
      "cell_type": "code",
      "execution_count": null,
      "metadata": {
        "id": "cLroFo0CvJxQ"
      },
      "outputs": [
        {
          "ename": "",
          "evalue": "",
          "output_type": "error",
          "traceback": [
            "\u001b[1;31mRunning cells with 'Python 3.9.13 64-bit (microsoft store)' requires ipykernel package.\n",
            "\u001b[1;31mRun the following command to install 'ipykernel' into the Python environment. \n",
            "\u001b[1;31mCommand: 'c:/Users/abc/AppData/Local/Microsoft/WindowsApps/python3.9.exe -m pip install ipykernel -U --force-reinstall'"
          ]
        }
      ],
      "source": [
        "# y_pred = model_lr_grid.predict(X_test)"
      ]
    },
    {
      "cell_type": "code",
      "execution_count": null,
      "metadata": {
        "id": "wuGAX_J2vMn0"
      },
      "outputs": [
        {
          "ename": "",
          "evalue": "",
          "output_type": "error",
          "traceback": [
            "\u001b[1;31mRunning cells with 'Python 3.9.13 64-bit (microsoft store)' requires ipykernel package.\n",
            "\u001b[1;31mRun the following command to install 'ipykernel' into the Python environment. \n",
            "\u001b[1;31mCommand: 'c:/Users/abc/AppData/Local/Microsoft/WindowsApps/python3.9.exe -m pip install ipykernel -U --force-reinstall'"
          ]
        }
      ],
      "source": [
        "# print(f\"Accuracy = {accuracy_score(y_test, y_pred)}\")\n",
        "# print(classification_report(y_test, y_pred, target_names=[\"leave\", \"stay\"]))"
      ]
    },
    {
      "cell_type": "markdown",
      "metadata": {
        "id": "fIRRlW5HwtKp"
      },
      "source": [
        "## XGBOOST"
      ]
    },
    {
      "cell_type": "code",
      "execution_count": null,
      "metadata": {
        "id": "TtKPkqgRw3qN"
      },
      "outputs": [
        {
          "ename": "",
          "evalue": "",
          "output_type": "error",
          "traceback": [
            "\u001b[1;31mRunning cells with 'Python 3.9.13 64-bit (microsoft store)' requires ipykernel package.\n",
            "\u001b[1;31mRun the following command to install 'ipykernel' into the Python environment. \n",
            "\u001b[1;31mCommand: 'c:/Users/abc/AppData/Local/Microsoft/WindowsApps/python3.9.exe -m pip install ipykernel -U --force-reinstall'"
          ]
        }
      ],
      "source": [
        "# sss = StratifiedShuffleSplit(n_splits=1, test_size=0.2, random_state=1715)\n",
        "\n",
        "# train_index, val_index = next(iter(sss.split(input, y)))\n",
        "# X_train, X_test = input[train_index], input[val_index]\n",
        "# y_train, y_test = y[train_index], y[val_index]"
      ]
    },
    {
      "cell_type": "code",
      "execution_count": null,
      "metadata": {
        "id": "Fw3fIRymwj7Y"
      },
      "outputs": [
        {
          "ename": "",
          "evalue": "",
          "output_type": "error",
          "traceback": [
            "\u001b[1;31mRunning cells with 'Python 3.9.13 64-bit (microsoft store)' requires ipykernel package.\n",
            "\u001b[1;31mRun the following command to install 'ipykernel' into the Python environment. \n",
            "\u001b[1;31mCommand: 'c:/Users/abc/AppData/Local/Microsoft/WindowsApps/python3.9.exe -m pip install ipykernel -U --force-reinstall'"
          ]
        }
      ],
      "source": [
        "# model_xgb= XGBClassifier()\n",
        "# parameters = {'n_estimators':[10, 20, 30, 40, 50, 100, 200],'max_depth':[3, 4, 5, 6],'learning_rate':[0.1, 0.5, 1]}\n",
        "# model_xgb_grid = GridSearchCV(model_xgb, \n",
        "#                               parameters,\n",
        "#                               cv=3,\n",
        "#                               verbose=0)"
      ]
    },
    {
      "cell_type": "code",
      "execution_count": null,
      "metadata": {
        "id": "yAb1gYnup0HP"
      },
      "outputs": [
        {
          "ename": "",
          "evalue": "",
          "output_type": "error",
          "traceback": [
            "\u001b[1;31mRunning cells with 'Python 3.9.13 64-bit (microsoft store)' requires ipykernel package.\n",
            "\u001b[1;31mRun the following command to install 'ipykernel' into the Python environment. \n",
            "\u001b[1;31mCommand: 'c:/Users/abc/AppData/Local/Microsoft/WindowsApps/python3.9.exe -m pip install ipykernel -U --force-reinstall'"
          ]
        }
      ],
      "source": [
        "# model_xgb_grid.fit(X_train, y_train)"
      ]
    },
    {
      "cell_type": "code",
      "execution_count": null,
      "metadata": {
        "id": "aDr8XRrJw2ux"
      },
      "outputs": [
        {
          "ename": "",
          "evalue": "",
          "output_type": "error",
          "traceback": [
            "\u001b[1;31mRunning cells with 'Python 3.9.13 64-bit (microsoft store)' requires ipykernel package.\n",
            "\u001b[1;31mRun the following command to install 'ipykernel' into the Python environment. \n",
            "\u001b[1;31mCommand: 'c:/Users/abc/AppData/Local/Microsoft/WindowsApps/python3.9.exe -m pip install ipykernel -U --force-reinstall'"
          ]
        }
      ],
      "source": [
        "# model_xgb_grid.best_params_"
      ]
    },
    {
      "cell_type": "code",
      "execution_count": null,
      "metadata": {
        "id": "4BEXlgClw5MS"
      },
      "outputs": [
        {
          "ename": "",
          "evalue": "",
          "output_type": "error",
          "traceback": [
            "\u001b[1;31mRunning cells with 'Python 3.9.13 64-bit (microsoft store)' requires ipykernel package.\n",
            "\u001b[1;31mRun the following command to install 'ipykernel' into the Python environment. \n",
            "\u001b[1;31mCommand: 'c:/Users/abc/AppData/Local/Microsoft/WindowsApps/python3.9.exe -m pip install ipykernel -U --force-reinstall'"
          ]
        }
      ],
      "source": [
        "# y_pred = model_xgb_grid.predict(X_test)"
      ]
    },
    {
      "cell_type": "code",
      "execution_count": null,
      "metadata": {
        "id": "lUYVvbA0w7Kh"
      },
      "outputs": [
        {
          "ename": "",
          "evalue": "",
          "output_type": "error",
          "traceback": [
            "\u001b[1;31mRunning cells with 'Python 3.9.13 64-bit (microsoft store)' requires ipykernel package.\n",
            "\u001b[1;31mRun the following command to install 'ipykernel' into the Python environment. \n",
            "\u001b[1;31mCommand: 'c:/Users/abc/AppData/Local/Microsoft/WindowsApps/python3.9.exe -m pip install ipykernel -U --force-reinstall'"
          ]
        }
      ],
      "source": [
        "# print(f\"Accuracy = {accuracy_score(y_test, y_pred)}\")\n",
        "# print(classification_report(y_test, y_pred, target_names=[\"satisfied\", \"neutral or dissatisfied\"]))"
      ]
    },
    {
      "cell_type": "code",
      "execution_count": null,
      "metadata": {
        "colab": {
          "base_uri": "https://localhost:8080/"
        },
        "id": "lRoFZaJGZ08F",
        "outputId": "30b6bba0-09b2-45f9-d155-1849f19a17c8"
      },
      "outputs": [
        {
          "ename": "",
          "evalue": "",
          "output_type": "error",
          "traceback": [
            "\u001b[1;31mRunning cells with 'Python 3.9.13 64-bit (microsoft store)' requires ipykernel package.\n",
            "\u001b[1;31mRun the following command to install 'ipykernel' into the Python environment. \n",
            "\u001b[1;31mCommand: 'c:/Users/abc/AppData/Local/Microsoft/WindowsApps/python3.9.exe -m pip install ipykernel -U --force-reinstall'"
          ]
        }
      ],
      "source": [
        "# load the model from disk\n",
        "loaded_model = pickle.load(open(\"rf_model.pkl\", 'rb'))\n",
        "result = loaded_model.score(X_test, y_test)\n",
        "print(result)"
      ]
    },
    {
      "cell_type": "code",
      "execution_count": null,
      "metadata": {
        "colab": {
          "base_uri": "https://localhost:8080/"
        },
        "id": "KP182PTxcoSw",
        "outputId": "25b7af9d-0192-4ba7-d25c-7bdb0e88b9b9"
      },
      "outputs": [
        {
          "ename": "",
          "evalue": "",
          "output_type": "error",
          "traceback": [
            "\u001b[1;31mRunning cells with 'Python 3.9.13 64-bit (microsoft store)' requires ipykernel package.\n",
            "\u001b[1;31mRun the following command to install 'ipykernel' into the Python environment. \n",
            "\u001b[1;31mCommand: 'c:/Users/abc/AppData/Local/Microsoft/WindowsApps/python3.9.exe -m pip install ipykernel -U --force-reinstall'"
          ]
        }
      ],
      "source": [
        "X_test.shape"
      ]
    },
    {
      "cell_type": "markdown",
      "metadata": {
        "id": "riJv7MtH1iR4"
      },
      "source": [
        "## Random Forest"
      ]
    },
    {
      "cell_type": "code",
      "execution_count": null,
      "metadata": {
        "id": "YzWf7gKR2FKN"
      },
      "outputs": [
        {
          "ename": "",
          "evalue": "",
          "output_type": "error",
          "traceback": [
            "\u001b[1;31mRunning cells with 'Python 3.9.13 64-bit (microsoft store)' requires ipykernel package.\n",
            "\u001b[1;31mRun the following command to install 'ipykernel' into the Python environment. \n",
            "\u001b[1;31mCommand: 'c:/Users/abc/AppData/Local/Microsoft/WindowsApps/python3.9.exe -m pip install ipykernel -U --force-reinstall'"
          ]
        }
      ],
      "source": [
        "# from sklearn.model_selection import GridSearchCV\n",
        "# sss = StratifiedShuffleSplit(n_splits=1, test_size=0.2, random_state=42)\n",
        "\n",
        "# train_index, val_index = next(iter(sss.split(input, y)))\n",
        "# X_train, X_test = input[train_index], input[val_index]\n",
        "# y_train, y_test = y[train_index], y[val_index]"
      ]
    },
    {
      "cell_type": "code",
      "execution_count": null,
      "metadata": {
        "id": "kg5FlL5z1lzW"
      },
      "outputs": [
        {
          "ename": "",
          "evalue": "",
          "output_type": "error",
          "traceback": [
            "\u001b[1;31mRunning cells with 'Python 3.9.13 64-bit (microsoft store)' requires ipykernel package.\n",
            "\u001b[1;31mRun the following command to install 'ipykernel' into the Python environment. \n",
            "\u001b[1;31mCommand: 'c:/Users/abc/AppData/Local/Microsoft/WindowsApps/python3.9.exe -m pip install ipykernel -U --force-reinstall'"
          ]
        }
      ],
      "source": [
        "# rfc=RandomForestClassifier(random_state=42)\n",
        "# param_grid = { \n",
        "#     'n_estimators': [200, 500],\n",
        "#     'max_features': ['auto', 'sqrt', 'log2'],\n",
        "#     'max_depth' : [4,5,6,7,8],\n",
        "#     'criterion' :['gini', 'entropy']\n",
        "# }"
      ]
    },
    {
      "cell_type": "code",
      "execution_count": null,
      "metadata": {
        "id": "HCJ_cVUN1yfc"
      },
      "outputs": [
        {
          "ename": "",
          "evalue": "",
          "output_type": "error",
          "traceback": [
            "\u001b[1;31mRunning cells with 'Python 3.9.13 64-bit (microsoft store)' requires ipykernel package.\n",
            "\u001b[1;31mRun the following command to install 'ipykernel' into the Python environment. \n",
            "\u001b[1;31mCommand: 'c:/Users/abc/AppData/Local/Microsoft/WindowsApps/python3.9.exe -m pip install ipykernel -U --force-reinstall'"
          ]
        }
      ],
      "source": [
        "# CV_rfc = GridSearchCV(estimator=rfc, param_grid=param_grid, cv= 5)"
      ]
    },
    {
      "cell_type": "code",
      "execution_count": null,
      "metadata": {
        "id": "yRXvbtny102z"
      },
      "outputs": [
        {
          "ename": "",
          "evalue": "",
          "output_type": "error",
          "traceback": [
            "\u001b[1;31mRunning cells with 'Python 3.9.13 64-bit (microsoft store)' requires ipykernel package.\n",
            "\u001b[1;31mRun the following command to install 'ipykernel' into the Python environment. \n",
            "\u001b[1;31mCommand: 'c:/Users/abc/AppData/Local/Microsoft/WindowsApps/python3.9.exe -m pip install ipykernel -U --force-reinstall'"
          ]
        }
      ],
      "source": [
        "# CV_rfc.fit(X_train, y_train)"
      ]
    },
    {
      "cell_type": "code",
      "execution_count": null,
      "metadata": {
        "id": "E591JTYB2TkK"
      },
      "outputs": [
        {
          "ename": "",
          "evalue": "",
          "output_type": "error",
          "traceback": [
            "\u001b[1;31mRunning cells with 'Python 3.9.13 64-bit (microsoft store)' requires ipykernel package.\n",
            "\u001b[1;31mRun the following command to install 'ipykernel' into the Python environment. \n",
            "\u001b[1;31mCommand: 'c:/Users/abc/AppData/Local/Microsoft/WindowsApps/python3.9.exe -m pip install ipykernel -U --force-reinstall'"
          ]
        }
      ],
      "source": [
        "# CV_rfc.best_params_"
      ]
    },
    {
      "cell_type": "code",
      "execution_count": null,
      "metadata": {
        "id": "Dtq4ZSmb2Xha"
      },
      "outputs": [
        {
          "ename": "",
          "evalue": "",
          "output_type": "error",
          "traceback": [
            "\u001b[1;31mRunning cells with 'Python 3.9.13 64-bit (microsoft store)' requires ipykernel package.\n",
            "\u001b[1;31mRun the following command to install 'ipykernel' into the Python environment. \n",
            "\u001b[1;31mCommand: 'c:/Users/abc/AppData/Local/Microsoft/WindowsApps/python3.9.exe -m pip install ipykernel -U --force-reinstall'"
          ]
        }
      ],
      "source": [
        "# y_pred = CV_rfc.predict(X_test)"
      ]
    },
    {
      "cell_type": "code",
      "execution_count": null,
      "metadata": {
        "id": "Sbuaz6q32dGP"
      },
      "outputs": [
        {
          "ename": "",
          "evalue": "",
          "output_type": "error",
          "traceback": [
            "\u001b[1;31mRunning cells with 'Python 3.9.13 64-bit (microsoft store)' requires ipykernel package.\n",
            "\u001b[1;31mRun the following command to install 'ipykernel' into the Python environment. \n",
            "\u001b[1;31mCommand: 'c:/Users/abc/AppData/Local/Microsoft/WindowsApps/python3.9.exe -m pip install ipykernel -U --force-reinstall'"
          ]
        }
      ],
      "source": [
        "# print(f\"Accuracy = {accuracy_score(y_test, y_pred)}\")\n",
        "# print(classification_report(y_test, y_pred, target_names=[\"satisfied\", \"neutral or dissatisfied\"]))"
      ]
    },
    {
      "cell_type": "markdown",
      "metadata": {
        "id": "HWfxUXF8YMEI"
      },
      "source": [
        "# **Application**"
      ]
    },
    {
      "cell_type": "code",
      "execution_count": null,
      "metadata": {
        "colab": {
          "base_uri": "https://localhost:8080/"
        },
        "id": "ofpD2iHuYPQg",
        "outputId": "e79e4cd7-5551-452a-b634-08735e855869"
      },
      "outputs": [
        {
          "ename": "",
          "evalue": "",
          "output_type": "error",
          "traceback": [
            "\u001b[1;31mRunning cells with 'Python 3.9.13 64-bit (microsoft store)' requires ipykernel package.\n",
            "\u001b[1;31mRun the following command to install 'ipykernel' into the Python environment. \n",
            "\u001b[1;31mCommand: 'c:/Users/abc/AppData/Local/Microsoft/WindowsApps/python3.9.exe -m pip install ipykernel -U --force-reinstall'"
          ]
        }
      ],
      "source": [
        "!pip install streamlit\n",
        "!pip install pyngrok===4.1.1\n",
        "from pyngrok import ngrok"
      ]
    },
    {
      "cell_type": "code",
      "execution_count": null,
      "metadata": {
        "colab": {
          "base_uri": "https://localhost:8080/"
        },
        "id": "CeAgaCxISmyq",
        "outputId": "d79b49e0-f214-42cf-f220-3f5d15db9ad8"
      },
      "outputs": [
        {
          "ename": "",
          "evalue": "",
          "output_type": "error",
          "traceback": [
            "\u001b[1;31mRunning cells with 'Python 3.9.13 64-bit (microsoft store)' requires ipykernel package.\n",
            "\u001b[1;31mRun the following command to install 'ipykernel' into the Python environment. \n",
            "\u001b[1;31mCommand: 'c:/Users/abc/AppData/Local/Microsoft/WindowsApps/python3.9.exe -m pip install ipykernel -U --force-reinstall'"
          ]
        }
      ],
      "source": [
        "%%writefile healthy-heart-app.py\n",
        "import streamlit as st\n",
        "import base64\n",
        "import sklearn\n",
        "import numpy as np\n",
        "import pickle as pkl\n",
        "from sklearn.preprocessing import MinMaxScaler\n",
        "scal=MinMaxScaler()\n",
        "\n",
        "#Load the saved model\n",
        "model = pickle.load(open(\"rf_model.pkl\", \"rb\"))\n",
        "\n",
        "st.set_page_config(page_title=\"Healthy Heart App\",page_icon=\"⚕️\",layout=\"centered\",initial_sidebar_state=\"expanded\")\n",
        "\n",
        "def preprocess(distance ,depDelay ,arrDelay ,gender ,cusType ,age ,typetrvl ,wifi ,timeConve ,booking ,food ,board ,seat ,entertain ,onboard ,leg ,bag ,checkin ,inflight ,clean ,cusClass ):   \n",
        "\n",
        "     if gender == \"Male\":\n",
        "         gender = 1\n",
        "     else:\n",
        "         gender = 0\n",
        "     if cusType == \"disloyal Customer\":\n",
        "         cusType = 0\n",
        "     else:\n",
        "         cusType = 1\n",
        "     if typetrvl == \"Business travel\":\n",
        "         typetrvl = 0\n",
        "     else:\n",
        "         typetrvl = 1\n",
        "    \n",
        "     li_class = { \"business\": 0, \"eco\": 0, \"eco plus\": 0}\n",
        "     if items.cusClass in li_class:\n",
        "         li_class[items.cusClass] = 1\n",
        "\n",
        "     age = (items.age - df[\"Age\"].min()) / (df[\"Age\"].max() - df[\"Age\"].min())\n",
        "     distance = (items.distance - df[\"Flight Distance\"].min()) / (df[\"Flight Distance\"].max() - df[\"Flight Distance\"].min())\n",
        "\n",
        "    user_input=[distance ,depDelay ,arrDelay ,gender ,cusType ,age ,typetrvl ,wifi ,timeConve ,booking ,food ,board ,seat ,entertain ,onboard ,leg ,bag ,checkin ,inflight ,clean ,cusClass ]\n",
        "    user_input=np.array(user_input)\n",
        "    user_input=user_input.reshape(1,-1)\n",
        "    user_input=scal.fit_transform(user_input)\n",
        "    prediction = model.predict(user_input)\n",
        "\n",
        "    return prediction\n",
        "\n",
        "    # front end elements of the web page \n",
        "html_temp = \"\"\" \n",
        "    <div style =\"background-color:pink;padding:13px\"> \n",
        "    <h1 style =\"color:black;text-align:center;\">Healthy Heart App</h1> \n",
        "    </div> \n",
        "    \"\"\"\n",
        "      \n",
        "# display the front end aspect\n",
        "st.markdown(html_temp, unsafe_allow_html = True) \n",
        "st.subheader('by Amlan Mohanty ')\n",
        "      \n",
        "# following lines create boxes in which user can enter data required to make prediction\n",
        "distance=st.number_input('Insert flight distance')\n",
        "depDelay = st.number_input('Insert Departure Delay in Minutes')\n",
        "arrDelay = st.number_input('Insert Arrival Delay in Minutes')\n",
        "gender = st.radio(\"Select Gender: \", ('Male', 'Female'))\n",
        "cusType = st.radio(\"Customer Type?\",(\"Loyal Customer\", \"disloyal Customer\"))\n",
        "age=st.selectbox (\"Age\",range(1,121,1))\n",
        "typetrvl = st.radio(\"Type of travel?\",(\"Business travel\", \"Personal Travel\"))\n",
        "wifi = st.select_slider(\"Inflight wifi service?\",options=[\"1\",\"2\", \"3\", \"4\", \"5\"])\n",
        "timeConve = st.select_slider(\"Departure/Arrival time convenient?\",options=[\"1\",\"2\", \"3\", \"4\", \"5\"])\n",
        "booking = st.select_slider(\"Ease of Online booking?\",options=[\"1\",\"2\", \"3\", \"4\", \"5\"])\n",
        "food = st.select_slider(\"Food and drink?\",options=[\"1\",\"2\", \"3\", \"4\", \"5\"])\n",
        "board = st.select_slider(\"Online boarding?\",options=[\"1\",\"2\", \"3\", \"4\", \"5\"])\n",
        "seat = st.select_slider(\"Seat comfort?\",options=[\"1\",\"2\", \"3\", \"4\", \"5\"])\n",
        "entertain= st.select_slider(\"Inflight entertainment?\",options=[\"1\",\"2\", \"3\", \"4\", \"5\"])\n",
        "onboard = st.select_slider(\"On-board service?\",options=[\"1\",\"2\", \"3\", \"4\", \"5\"])\n",
        "leg = st.select_slider(\"Leg room service?\",options=[\"1\",\"2\", \"3\", \"4\", \"5\"])\n",
        "bag = st.select_slider(\"Baggage handling?\",options=[\"1\",\"2\", \"3\", \"4\", \"5\"])\n",
        "checkin = st.select_slider(\"Checkin service?\",options=[\"1\",\"2\", \"3\", \"4\", \"5\"])\n",
        "inflight = st.select_slider(\"Inflight service?\",options=[\"1\",\"2\", \"3\", \"4\", \"5\"])\n",
        "clean = st.select_slider(\"Cleanlines?\",options=[\"1\",\"2\", \"3\", \"4\", \"5\"])\n",
        "class = st.selectbox('Customer Class?',(\"Business\", \"Eco\", \"Eco Plus\")) \n",
        "\n",
        "\n",
        "pred=preprocess(distance ,depDelay ,arrDelay ,gender ,cusType ,age ,typetrvl ,wifi ,timeConve ,booking ,food ,board ,seat ,entertain ,onboard ,leg ,bag ,checkin ,inflight ,clean ,cusClass )\n",
        "\n",
        "\n",
        "if st.button(\"Predict\"):    \n",
        "  if pred[0] == 0:\n",
        "    st.error('neutral or dissatisfied')\n",
        "    \n",
        "  else:\n",
        "    st.success('satisfied')\n",
        "\n",
        "\n",
        "st.sidebar.info(\"This web app is helps you to find out whether you are at a risk of developing a heart disease.\")\n",
        "st.sidebar.info(\"Enter the required fields and click on the 'Predict' button to check whether you have a healthy heart\")\n",
        "\n"
      ]
    },
    {
      "cell_type": "code",
      "execution_count": null,
      "metadata": {
        "colab": {
          "base_uri": "https://localhost:8080/"
        },
        "id": "8w2qvpi5ksC_",
        "outputId": "db31a2c8-98f7-42d9-e487-7e88ed30ef3f"
      },
      "outputs": [
        {
          "ename": "",
          "evalue": "",
          "output_type": "error",
          "traceback": [
            "\u001b[1;31mRunning cells with 'Python 3.9.13 64-bit (microsoft store)' requires ipykernel package.\n",
            "\u001b[1;31mRun the following command to install 'ipykernel' into the Python environment. \n",
            "\u001b[1;31mCommand: 'c:/Users/abc/AppData/Local/Microsoft/WindowsApps/python3.9.exe -m pip install ipykernel -U --force-reinstall'"
          ]
        }
      ],
      "source": [
        "!nohup streamlit run healthy-heart-app.py &\n",
        "url = ngrok.connect(port='8501')\n",
        "url"
      ]
    },
    {
      "cell_type": "code",
      "execution_count": null,
      "metadata": {
        "id": "fQIrGdqJJSGg"
      },
      "outputs": [
        {
          "ename": "",
          "evalue": "",
          "output_type": "error",
          "traceback": [
            "\u001b[1;31mRunning cells with 'Python 3.9.13 64-bit (microsoft store)' requires ipykernel package.\n",
            "\u001b[1;31mRun the following command to install 'ipykernel' into the Python environment. \n",
            "\u001b[1;31mCommand: 'c:/Users/abc/AppData/Local/Microsoft/WindowsApps/python3.9.exe -m pip install ipykernel -U --force-reinstall'"
          ]
        }
      ],
      "source": [
        "# import requests\n",
        "\n",
        "# import streamlit as st\n",
        "\n",
        "# # Define the title\n",
        "# # st.title(\"Car evaluation web application\")\n",
        "# # st.write(\n",
        "# #     \"The model evaluates a cars acceptability based on the inputs below.\\\n",
        "# #     Pass the appropriate details about your car using the questions below to discover if your car is acceptable.\"\n",
        "# # )\n",
        "\n",
        "# # Input 1\n",
        "# gender = st.radio(\n",
        "#     \"Gender?\",\n",
        "#     (\"Female\",\"Male\")\n",
        "# )\n",
        "# # Input 2\n",
        "# cusType = st.radio(\n",
        "#     \"Customer Type?\",\n",
        "#     (\"Loyal Customer\", \"disloyal Customer\")\n",
        "# )\n",
        "# # Input 3\n",
        "# age = st.number_input('Insert your age')\n",
        "# # Input 4\n",
        "# typetrvl = st.radio(\n",
        "#     \"Type of travel?\",\n",
        "#     (\"Business travel\", \"Personal Travel\")\n",
        "# )\n",
        "# #Input 5\n",
        "# cusClass = st.radio(\n",
        "#     \"Class?\",\n",
        "#     (\"Business\", \"Eco\", \"Eco Plus\")\n",
        "# )\n",
        "# #Input 6\n",
        "# distance = st.number_input('Insert flight distance')\n",
        "# #Input 7\n",
        "# depDelay = st.number_input('Insert Departure Delay in Minutes')\n",
        "# #Input 8\n",
        "# arrDelay = st.number_input('Insert Arrival Delay in Minutes')\n",
        "# #Input 9\n",
        "# wifi = st.select_slider(\n",
        "#     \"Inflight wifi service?\",\n",
        "#     options=[\"1\",\"2\", \"3\", \"4\", \"5\"]\n",
        "# )\n",
        "# # Input 10\n",
        "# timeConve = st.select_slider(\n",
        "#     \"Departure/Arrival time convenient?\",\n",
        "#     options=[\"1\",\"2\", \"3\", \"4\", \"5\"]\n",
        "# )\n",
        "# # Input 11\n",
        "# booking = st.select_slider(\n",
        "#     \"Ease of Online booking?\",\n",
        "#     options=[\"1\",\"2\", \"3\", \"4\", \"5\"]\n",
        "# )\n",
        "# # Input 12\n",
        "# food = st.select_slider(\n",
        "#     \"Food and drink?\",\n",
        "#     options=[\"1\",\"2\", \"3\", \"4\", \"5\"]\n",
        "# )\n",
        "# #Input 13\n",
        "# board = st.select_slider(\n",
        "#     \"Online boarding?\",\n",
        "#     options=[\"1\",\"2\", \"3\", \"4\", \"5\"]\n",
        "# )\n",
        "# #Input 14\n",
        "# seat = st.select_slider(\n",
        "#     \"Seat comfort?\",\n",
        "#     options=[\"1\",\"2\", \"3\", \"4\", \"5\"]\n",
        "# )\n",
        "# #Input 15\n",
        "# entertain= st.select_slider(\n",
        "#     \"Inflight entertainment?\",\n",
        "#     options=[\"1\",\"2\", \"3\", \"4\", \"5\"]\n",
        "# )\n",
        "# #Input 16\n",
        "# onboard = st.select_slider(\n",
        "#     \"On-board service?\",\n",
        "#     options=[\"1\",\"2\", \"3\", \"4\", \"5\"]\n",
        "# )\n",
        "# #Input 17\n",
        "# leg = st.select_slider(\n",
        "#     \"Leg room service?\",\n",
        "#     options=[\"1\",\"2\", \"3\", \"4\", \"5\"]\n",
        "# )\n",
        "# #Input 18\n",
        "# bag = st.select_slider(\n",
        "#     \"Baggage handling?\",\n",
        "#     options=[\"1\",\"2\", \"3\", \"4\", \"5\"]\n",
        "# )\n",
        "# #Input 19\n",
        "# checkin = st.select_slider(\n",
        "#     \"Checkin service?\",\n",
        "#     options=[\"1\",\"2\", \"3\", \"4\", \"5\"]\n",
        "# )\n",
        "# #Input 20\n",
        "# inflight = st.select_slider(\n",
        "#     \"Inflight service?\",\n",
        "#     options=[\"1\",\"2\", \"3\", \"4\", \"5\"]\n",
        "# )\n",
        "# #Input 21\n",
        "# clean = st.select_slider(\n",
        "#     \"Cleanlines?\",\n",
        "#     options=[\"1\",\"2\", \"3\", \"4\", \"5\"]\n",
        "# )\n",
        "# # Class values to be returned by the model\n",
        "# class_values = {\n",
        "#     0: \"neutral or dissatisfied\",\n",
        "#     1: \"satisfied\"\n",
        "#     }\n",
        "# # When 'Submit' is selected\n",
        "# if st.button(\"Submit\"):\n",
        "\n",
        "#     # Inputs to ML model\n",
        "#     inputs = {\n",
        "#         \"inputs\": [\n",
        "#             {\n",
        "#                 \"gender\": gender,\n",
        "#                 \"cusType\": cusType,\n",
        "#                 \"age\": age,\n",
        "#                 \"typetrvl\": typetrvl,\n",
        "#                 \"cusClass\": cusClass,\n",
        "#                 \"distance\": distance,\n",
        "#                 \"depDelay\": depDelay,\n",
        "#                 \"arrDelay\": arrDelay,\n",
        "#                 \"wifi\": wifi,\n",
        "#                 \"timeConve\": timeConve,\n",
        "#                 \"booking\": booking,\n",
        "#                 \"food\": food,\n",
        "#                 \"board\": board,\n",
        "#                 \"seat\": seat,\n",
        "#                 \"entertain\": entertain,\n",
        "#                 \"onboard\": onboard,\n",
        "#                 \"leg\": leg,\n",
        "#                 \"bag\": bag,\n",
        "#                 \"checkin\": onboard,\n",
        "#                 \"inflight\": inflight,\n",
        "#                 \"clean\": clean\n",
        "#             }\n",
        "#         ]\n",
        "#         }\n",
        "       \n",
        "#     # Posting inputs to ML API\n",
        "#     response = requests.post(f\"http://host.docker.internal:8001/api/v1/predict/\", json=inputs, verify=False)\n",
        "#     json_response = response.json()\n",
        "\n",
        "#     prediction = class_values[json_response.get(\"predictions\")[0]]\n",
        "\n",
        "#     st.subheader(f\"This car is **{prediction}!**\")"
      ]
    },
    {
      "cell_type": "code",
      "execution_count": null,
      "metadata": {
        "id": "yucXPuErJqE3"
      },
      "outputs": [
        {
          "ename": "",
          "evalue": "",
          "output_type": "error",
          "traceback": [
            "\u001b[1;31mRunning cells with 'Python 3.9.13 64-bit (microsoft store)' requires ipykernel package.\n",
            "\u001b[1;31mRun the following command to install 'ipykernel' into the Python environment. \n",
            "\u001b[1;31mCommand: 'c:/Users/abc/AppData/Local/Microsoft/WindowsApps/python3.9.exe -m pip install ipykernel -U --force-reinstall'"
          ]
        }
      ],
      "source": [
        "# !pip install pydantic\n",
        "# !pip install fastapi\n",
        "# !pip install uvicorn\n",
        "# !pip install colabcode"
      ]
    },
    {
      "cell_type": "code",
      "execution_count": null,
      "metadata": {
        "id": "ONjzW2p7JvMe"
      },
      "outputs": [
        {
          "ename": "",
          "evalue": "",
          "output_type": "error",
          "traceback": [
            "\u001b[1;31mRunning cells with 'Python 3.9.13 64-bit (microsoft store)' requires ipykernel package.\n",
            "\u001b[1;31mRun the following command to install 'ipykernel' into the Python environment. \n",
            "\u001b[1;31mCommand: 'c:/Users/abc/AppData/Local/Microsoft/WindowsApps/python3.9.exe -m pip install ipykernel -U --force-reinstall'"
          ]
        }
      ],
      "source": [
        "# from pydantic import BaseModel\n",
        "# from fastapi import FastAPI\n",
        "# from colabcode import ColabCode"
      ]
    },
    {
      "cell_type": "code",
      "execution_count": null,
      "metadata": {
        "id": "KCE4HhVqJ2u6"
      },
      "outputs": [
        {
          "ename": "",
          "evalue": "",
          "output_type": "error",
          "traceback": [
            "\u001b[1;31mRunning cells with 'Python 3.9.13 64-bit (microsoft store)' requires ipykernel package.\n",
            "\u001b[1;31mRun the following command to install 'ipykernel' into the Python environment. \n",
            "\u001b[1;31mCommand: 'c:/Users/abc/AppData/Local/Microsoft/WindowsApps/python3.9.exe -m pip install ipykernel -U --force-reinstall'"
          ]
        }
      ],
      "source": [
        "# cc = ColabCode(port=5000, code=False)"
      ]
    },
    {
      "cell_type": "code",
      "execution_count": null,
      "metadata": {
        "id": "TandxUtBQ4gD"
      },
      "outputs": [
        {
          "ename": "",
          "evalue": "",
          "output_type": "error",
          "traceback": [
            "\u001b[1;31mRunning cells with 'Python 3.9.13 64-bit (microsoft store)' requires ipykernel package.\n",
            "\u001b[1;31mRun the following command to install 'ipykernel' into the Python environment. \n",
            "\u001b[1;31mCommand: 'c:/Users/abc/AppData/Local/Microsoft/WindowsApps/python3.9.exe -m pip install ipykernel -U --force-reinstall'"
          ]
        }
      ],
      "source": [
        "# df_cp.info()"
      ]
    },
    {
      "cell_type": "code",
      "execution_count": null,
      "metadata": {
        "id": "9DAuNpE3J50F"
      },
      "outputs": [
        {
          "ename": "",
          "evalue": "",
          "output_type": "error",
          "traceback": [
            "\u001b[1;31mRunning cells with 'Python 3.9.13 64-bit (microsoft store)' requires ipykernel package.\n",
            "\u001b[1;31mRun the following command to install 'ipykernel' into the Python environment. \n",
            "\u001b[1;31mCommand: 'c:/Users/abc/AppData/Local/Microsoft/WindowsApps/python3.9.exe -m pip install ipykernel -U --force-reinstall'"
          ]
        }
      ],
      "source": [
        "# class ITEMS(BaseModel):\n",
        "#     distance: float\n",
        "#     depDelay: int\n",
        "#     arrDelay: float\n",
        "#     gender: str\n",
        "#     cusType: str\n",
        "#     age: int\n",
        "#     typetrvl: str\n",
        "#     wifi: int\n",
        "#     timeConve: int\n",
        "#     booking: int\n",
        "#     food: int\n",
        "#     board: int\n",
        "#     seat: int\n",
        "#     entertain: int\n",
        "#     onboard: int\n",
        "#     leg: int\n",
        "#     bag: int\n",
        "#     checkin: int\n",
        "#     inflight: int\n",
        "#     clean: int\n",
        "#     cusClass: str\n",
        "\n"
      ]
    },
    {
      "cell_type": "code",
      "execution_count": null,
      "metadata": {
        "id": "UbZQrxdeJ6i7"
      },
      "outputs": [
        {
          "ename": "",
          "evalue": "",
          "output_type": "error",
          "traceback": [
            "\u001b[1;31mRunning cells with 'Python 3.9.13 64-bit (microsoft store)' requires ipykernel package.\n",
            "\u001b[1;31mRun the following command to install 'ipykernel' into the Python environment. \n",
            "\u001b[1;31mCommand: 'c:/Users/abc/AppData/Local/Microsoft/WindowsApps/python3.9.exe -m pip install ipykernel -U --force-reinstall'"
          ]
        }
      ],
      "source": [
        "# app = FastAPI()\n",
        "# model = pickle.load(open(\"rf_model.pkl\", \"rb\"))\n",
        "\n",
        "# @app.get(\"/\")\n",
        "# async def index():\n",
        "#     return {\"text\": \"hello\"}\n",
        "\n",
        "# @app.put(\"/predict\")\n",
        "# async def predict(items: ITEMS):\n",
        "#     if items.gender == \"Male\":\n",
        "#         gender = 1\n",
        "#     else:\n",
        "#         gender = 0\n",
        "#     if items.cusType == \"disloyal Customer\":\n",
        "#         cusType = 0\n",
        "#     else:\n",
        "#         cusType = 1\n",
        "#     if items.typetrvl == \"Business travel\":\n",
        "#         typetrvl = 0\n",
        "#     else:\n",
        "#         typetrvl = 1\n",
        "    \n",
        "#     li_class = { \"business\": 0, \"eco\": 0, \"eco plus\": 0}\n",
        "#     if items.cusClass in li_class:\n",
        "#         li_class[items.cusClass] = 1\n",
        "\n",
        "#     age = (items.age - df[\"Age\"].min()) / (df[\"Age\"].max() - df[\"Age\"].min())\n",
        "#     distance = (items.distance - df[\"Flight Distance\"].min()) / (df[\"Flight Distance\"].max() - df[\"Flight Distance\"].min())\n",
        "\n",
        "    # types = {\n",
        "    #    0: \"neutral or dissatisfied 0\",\n",
        "    #    1: \"satisfied 1\"\n",
        "    # }\n",
        "   \n",
        "#     prediction = list(map(lambda x: types[x], model.predict([[distance, items.depDelay,items.arrDelay, gender,cusType, age, typetrvl, items.wifi,items.timeConve, items.booking, items.food, items.board, items.seat, items.entertain, items.onboard, items.leg, items.bag, items.checkin, items.inflight, items.clean,li_class[\"eco\"], li_class[\"eco plus\"], li_class[\"business\"]]]).tolist()))\n",
        "#     return {\"predict\": prediction}"
      ]
    },
    {
      "cell_type": "code",
      "execution_count": null,
      "metadata": {
        "id": "NS4rifWHJ9a2"
      },
      "outputs": [
        {
          "ename": "",
          "evalue": "",
          "output_type": "error",
          "traceback": [
            "\u001b[1;31mRunning cells with 'Python 3.9.13 64-bit (microsoft store)' requires ipykernel package.\n",
            "\u001b[1;31mRun the following command to install 'ipykernel' into the Python environment. \n",
            "\u001b[1;31mCommand: 'c:/Users/abc/AppData/Local/Microsoft/WindowsApps/python3.9.exe -m pip install ipykernel -U --force-reinstall'"
          ]
        }
      ],
      "source": [
        "# !ngrok authtoken 29Jiw4zse9fyhQTqost16CJgRHc_33rG2WxCMejiooaWj3mHB"
      ]
    },
    {
      "cell_type": "code",
      "execution_count": null,
      "metadata": {
        "id": "10rLVeIWKAq6"
      },
      "outputs": [
        {
          "ename": "",
          "evalue": "",
          "output_type": "error",
          "traceback": [
            "\u001b[1;31mRunning cells with 'Python 3.9.13 64-bit (microsoft store)' requires ipykernel package.\n",
            "\u001b[1;31mRun the following command to install 'ipykernel' into the Python environment. \n",
            "\u001b[1;31mCommand: 'c:/Users/abc/AppData/Local/Microsoft/WindowsApps/python3.9.exe -m pip install ipykernel -U --force-reinstall'"
          ]
        }
      ],
      "source": [
        "# cc.run_app(app=app)"
      ]
    }
  ],
  "metadata": {
    "colab": {
      "collapsed_sections": [
        "tIIAOpaHZAex",
        "SLpRfqA_CpOz",
        "53X3hxLqZoju"
      ],
      "include_colab_link": true,
      "provenance": []
    },
    "kernelspec": {
      "display_name": "Python 3.9.13 64-bit (microsoft store)",
      "language": "python",
      "name": "python3"
    },
    "language_info": {
      "codemirror_mode": {
        "name": "ipython",
        "version": 3
      },
      "file_extension": ".py",
      "mimetype": "text/x-python",
      "name": "python",
      "nbconvert_exporter": "python",
      "pygments_lexer": "ipython3",
      "version": "3.9.13"
    },
    "vscode": {
      "interpreter": {
        "hash": "052054337a998f60d17afd770c48e223f75eb03af3b126e6d0617b0c30a41f8e"
      }
    }
  },
  "nbformat": 4,
  "nbformat_minor": 0
}
